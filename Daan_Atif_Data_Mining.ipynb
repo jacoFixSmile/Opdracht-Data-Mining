{
 "cells": [
  {
   "cell_type": "code",
   "execution_count": 1,
   "id": "f56db649",
   "metadata": {},
   "outputs": [
    {
     "name": "stdout",
     "output_type": "stream",
     "text": [
      "Requirement already satisfied: folium in c:\\users\\atife\\anaconda3\\lib\\site-packages (0.12.1)\n",
      "Requirement already satisfied: jinja2>=2.9 in c:\\users\\atife\\anaconda3\\lib\\site-packages (from folium) (2.11.3)\n",
      "Requirement already satisfied: requests in c:\\users\\atife\\anaconda3\\lib\\site-packages (from folium) (2.25.1)\n",
      "Requirement already satisfied: numpy in c:\\users\\atife\\anaconda3\\lib\\site-packages (from folium) (1.20.1)\n",
      "Requirement already satisfied: branca>=0.3.0 in c:\\users\\atife\\anaconda3\\lib\\site-packages (from folium) (0.4.2)\n",
      "Requirement already satisfied: MarkupSafe>=0.23 in c:\\users\\atife\\anaconda3\\lib\\site-packages (from jinja2>=2.9->folium) (1.1.1)\n",
      "Requirement already satisfied: idna<3,>=2.5 in c:\\users\\atife\\anaconda3\\lib\\site-packages (from requests->folium) (2.10)\n",
      "Requirement already satisfied: certifi>=2017.4.17 in c:\\users\\atife\\anaconda3\\lib\\site-packages (from requests->folium) (2020.12.5)\n",
      "Requirement already satisfied: chardet<5,>=3.0.2 in c:\\users\\atife\\anaconda3\\lib\\site-packages (from requests->folium) (4.0.0)\n",
      "Requirement already satisfied: urllib3<1.27,>=1.21.1 in c:\\users\\atife\\anaconda3\\lib\\site-packages (from requests->folium) (1.26.4)\n"
     ]
    }
   ],
   "source": [
    "import sys\n",
    "import findspark\n",
    "import pyspark\n",
    "!pip install folium\n",
    "import folium\n",
    "WhoIsWorking=\"Atif\"\n",
    "if(WhoIsWorking==\"Daan\"):\n",
    "    findspark.init(\"c:/Users/Eigenaar/spark-3.1.2-bin-hadoop3.2\")\n",
    "else:\n",
    "    findspark.init(\"C:\\\\spark-3.1.2-bin-hadoop3.2\\\\spark-3.1.2-bin-hadoop3.2\")"
   ]
  },
  {
   "cell_type": "code",
   "execution_count": 2,
   "id": "a3412c8a",
   "metadata": {},
   "outputs": [],
   "source": [
    "from pyspark.sql import SparkSession\n",
    "from pyspark.sql import SQLContext\n",
    "from pyspark.sql.types import *\n",
    "from pyspark.sql.functions import avg\n",
    "from ipywidgets import widgets\n",
    "from pyspark.sql.functions import col\n",
    "from collections import Counter\n",
    "from pyspark.sql.functions import count\n",
    "import seaborn as sns\n",
    "import matplotlib.pyplot as plt\n",
    "\n"
   ]
  },
  {
   "cell_type": "code",
   "execution_count": 3,
   "id": "35da9807",
   "metadata": {},
   "outputs": [],
   "source": [
    "spark = SparkSession.builder.getOrCreate()"
   ]
  },
  {
   "cell_type": "code",
   "execution_count": 4,
   "id": "91e51595",
   "metadata": {},
   "outputs": [],
   "source": [
    "\n",
    "#Creating schema's\n",
    "schema_pubs = StructType([\n",
    "    StructField(\"Food Standard Agency's ID\", StringType(), nullable=True),\n",
    "    StructField(\"name\", StringType(), nullable=True),\n",
    "    StructField(\"address\", StringType(), nullable=True),\n",
    "    StructField(\"postcode\", StringType(), nullable=True),\n",
    "    StructField(\"easting\", DoubleType(), nullable=True),\n",
    "    StructField(\"northing\", DoubleType(), nullable=True),\n",
    "    StructField(\"latitude\", DoubleType(), nullable=False),\n",
    "    StructField(\"longitude\", DoubleType(), nullable=False),\n",
    "    StructField(\"local_authority\", StringType(), nullable=True)\n",
    "\n",
    "])"
   ]
  },
  {
   "cell_type": "code",
   "execution_count": 5,
   "id": "e34aef19",
   "metadata": {},
   "outputs": [],
   "source": [
    "# importing data \n",
    "\n",
    "### casualtiesData_df geeft meer info over het slachtoffer\n",
    "if(WhoIsWorking==\"Daan\"):\n",
    "    casualtiesData_df = spark.read.format('csv').option('header', True).load('Kaggle_datasets/Casualties0514.csv')\n",
    "    accidentData_df = spark.read.format('csv').option('header',True).load('Kaggle_datasets/Accidents0514.csv')\n",
    "    pubsData_df = spark.read.format('csv').option('header',False).schema(schema_pubs).load('open_pubs.csv')\n",
    "else:\n",
    "    accidentData_df = spark.read.format('csv').option('header',True).load('../../../Desktop/Data mining/Accidents0514.csv')\n",
    "    pubsData_df = spark.read.format('csv').option('header',False).schema(schema_pubs).load('open_pubs.csv')\n",
    "    casualtiesData_df = spark.read.format('csv').option('header', True).load('../../../Desktop/Data mining/Casualties0514.csv')"
   ]
  },
  {
   "cell_type": "code",
   "execution_count": 6,
   "id": "9aee6f5f",
   "metadata": {},
   "outputs": [
    {
     "name": "stdout",
     "output_type": "stream",
     "text": [
      "146  rijen zijn verwijderd omdat ze lege waarden hadden.\n",
      "Kolommen Vehicle_Reference en Casualty_Reference zijn zeer nuttige gegevens maar die waarden komen precies niet overeen met die tabel op Kaggle dus heb ze weggelaten. Kan dat ik verkeerd ben maar heb niets gevonden.\n"
     ]
    }
   ],
   "source": [
    "### Filter de pub data set\n",
    "counterRowsBeforePubs=pubsData_df.count()\n",
    "pubsData_df=pubsData_df.dropna(subset=[\"latitude\",\"longitude\"])\n",
    "print(counterRowsBeforePubs-pubsData_df.count(),\" rijen zijn verwijderd omdat ze lege waarden hadden.\")\n",
    "### nutteloze kolommen zoals Pedestrian_Crossing,Special_Condition_at_site, Carriageway_Hazards,  want volgens Kaggle hebben bijna alle records dezelfde data dus veel gaat deze kolom ons niet opleveren alleen maar een langere run time. heb ook Location_Northing_OSGR, Location_Easting_OSGR, Local_Authority_(District), Local_Authority_(Highway)1st_Road_Class, 1st_Road_Number, 2nd_Road_Class, 2nd_Road_Number, Pedestrian_Crossing-Human_Control, Pedestrian_Crossing-Physical_Facilities\n",
    "accidentData_df = accidentData_df.drop(\"Pedestrian_Crossing\", \"Special_Condition_at_site\",\"Local_Authority_(Highway)\", \"Carriageway_Hazards\",\"Location_Northing_OSGR\", \"Location_Easting_OSGR\", \"Local_Authority_(District)\", \"Local_Authority_(Highway)1st_Road_Class\", \"1st_Road_Number\", \"2nd_Road_Class\", \"2nd_Road_Number\", \"Pedestrian_Crossing-Human_Control\", \"Pedestrian_Crossing-Physical_Facilities\")\n",
    "### In casualtiesData heb ik ook een paar kolommen verwijderd => Pedestian_Location, Pedestrian_Movement, Bus_or_Coach_, Vehicle_Reference, Casualty_Reference, Age_Band_of_Casualty, Pedestrian_Road_Maintenance_Worker, Casualty_Home_Area_Type\n",
    "casualtiesData_df = casualtiesData_df.drop(\"Pedestian_Location\", \"Pedestrian_Movement\", \"Bus_or_Coach_Passenger\", \"Vehicle_Reference\", \"Casualty_Reference\", \"Age_Band_of_Casualty\", \"Pedestrian_Road_Maintenance_Worker\",\"Casualty_Home_Area_Type\" )\n",
    "print(\"Kolommen Vehicle_Reference en Casualty_Reference zijn zeer nuttige gegevens maar die waarden komen precies niet overeen met die tabel op Kaggle dus heb ze weggelaten. Kan dat ik verkeerd ben maar heb niets gevonden.\")\n"
   ]
  },
  {
   "cell_type": "code",
   "execution_count": 7,
   "id": "816441ad",
   "metadata": {},
   "outputs": [
    {
     "name": "stdout",
     "output_type": "stream",
     "text": [
      "120599  rijen zijn verwijderd omdat ze lege waarden hadden.\n",
      "0  rijen zijn verwijderd omdat ze lege waarden hadden.\n"
     ]
    }
   ],
   "source": [
    "### Filter de accident data set\n",
    "counterRowsBeforePubs=accidentData_df.count()\n",
    "accidentData_df=accidentData_df.na.drop()\n",
    "print(counterRowsBeforePubs-accidentData_df.count(),\" rijen zijn verwijderd omdat ze lege waarden hadden.\")\n",
    "\n",
    "### Filter de casaulties data\n",
    "counterRowsBeforeCasaul=casualtiesData_df.count()\n",
    "casualtiesData_df=casualtiesData_df.na.drop()\n",
    "print(counterRowsBeforeCasaul-casualtiesData_df.count(),\" rijen zijn verwijderd omdat ze lege waarden hadden.\")\n"
   ]
  },
  {
   "cell_type": "code",
   "execution_count": 8,
   "id": "ecc29c12",
   "metadata": {},
   "outputs": [
    {
     "name": "stdout",
     "output_type": "stream",
     "text": [
      "-RECORD 0----------------------------------------------------\n",
      " Accident_Index                              | 200501BS00001 \n",
      " Longitude                                   | -0.191170     \n",
      " Latitude                                    | 51.489096     \n",
      " Police_Force                                | 1             \n",
      " Accident_Severity                           | 2             \n",
      " Number_of_Vehicles                          | 1             \n",
      " Number_of_Casualties                        | 1             \n",
      " Date                                        | 04/01/2005    \n",
      " Day_of_Week                                 | 3             \n",
      " Time                                        | 17:42         \n",
      " 1st_Road_Class                              | 3             \n",
      " Road_Type                                   | 6             \n",
      " Speed_limit                                 | 30            \n",
      " Junction_Detail                             | 0             \n",
      " Junction_Control                            | -1            \n",
      " Light_Conditions                            | 1             \n",
      " Weather_Conditions                          | 2             \n",
      " Road_Surface_Conditions                     | 2             \n",
      " Special_Conditions_at_Site                  | 0             \n",
      " Urban_or_Rural_Area                         | 1             \n",
      " Did_Police_Officer_Attend_Scene_of_Accident | 1             \n",
      " LSOA_of_Accident_Location                   | E01002849     \n",
      "-RECORD 1----------------------------------------------------\n",
      " Accident_Index                              | 200501BS00002 \n",
      " Longitude                                   | -0.211708     \n",
      " Latitude                                    | 51.520075     \n",
      " Police_Force                                | 1             \n",
      " Accident_Severity                           | 3             \n",
      " Number_of_Vehicles                          | 1             \n",
      " Number_of_Casualties                        | 1             \n",
      " Date                                        | 05/01/2005    \n",
      " Day_of_Week                                 | 4             \n",
      " Time                                        | 17:36         \n",
      " 1st_Road_Class                              | 4             \n",
      " Road_Type                                   | 3             \n",
      " Speed_limit                                 | 30            \n",
      " Junction_Detail                             | 6             \n",
      " Junction_Control                            | 2             \n",
      " Light_Conditions                            | 4             \n",
      " Weather_Conditions                          | 1             \n",
      " Road_Surface_Conditions                     | 1             \n",
      " Special_Conditions_at_Site                  | 0             \n",
      " Urban_or_Rural_Area                         | 1             \n",
      " Did_Police_Officer_Attend_Scene_of_Accident | 1             \n",
      " LSOA_of_Accident_Location                   | E01002909     \n",
      "-RECORD 2----------------------------------------------------\n",
      " Accident_Index                              | 200501BS00003 \n",
      " Longitude                                   | -0.206458     \n",
      " Latitude                                    | 51.525301     \n",
      " Police_Force                                | 1             \n",
      " Accident_Severity                           | 3             \n",
      " Number_of_Vehicles                          | 2             \n",
      " Number_of_Casualties                        | 1             \n",
      " Date                                        | 06/01/2005    \n",
      " Day_of_Week                                 | 5             \n",
      " Time                                        | 00:15         \n",
      " 1st_Road_Class                              | 5             \n",
      " Road_Type                                   | 6             \n",
      " Speed_limit                                 | 30            \n",
      " Junction_Detail                             | 0             \n",
      " Junction_Control                            | -1            \n",
      " Light_Conditions                            | 4             \n",
      " Weather_Conditions                          | 1             \n",
      " Road_Surface_Conditions                     | 1             \n",
      " Special_Conditions_at_Site                  | 0             \n",
      " Urban_or_Rural_Area                         | 1             \n",
      " Did_Police_Officer_Attend_Scene_of_Accident | 1             \n",
      " LSOA_of_Accident_Location                   | E01002857     \n",
      "-RECORD 3----------------------------------------------------\n",
      " Accident_Index                              | 200501BS00004 \n",
      " Longitude                                   | -0.173862     \n",
      " Latitude                                    | 51.482442     \n",
      " Police_Force                                | 1             \n",
      " Accident_Severity                           | 3             \n",
      " Number_of_Vehicles                          | 1             \n",
      " Number_of_Casualties                        | 1             \n",
      " Date                                        | 07/01/2005    \n",
      " Day_of_Week                                 | 6             \n",
      " Time                                        | 10:35         \n",
      " 1st_Road_Class                              | 3             \n",
      " Road_Type                                   | 6             \n",
      " Speed_limit                                 | 30            \n",
      " Junction_Detail                             | 0             \n",
      " Junction_Control                            | -1            \n",
      " Light_Conditions                            | 1             \n",
      " Weather_Conditions                          | 1             \n",
      " Road_Surface_Conditions                     | 1             \n",
      " Special_Conditions_at_Site                  | 0             \n",
      " Urban_or_Rural_Area                         | 1             \n",
      " Did_Police_Officer_Attend_Scene_of_Accident | 1             \n",
      " LSOA_of_Accident_Location                   | E01002840     \n",
      "-RECORD 4----------------------------------------------------\n",
      " Accident_Index                              | 200501BS00005 \n",
      " Longitude                                   | -0.156618     \n",
      " Latitude                                    | 51.495752     \n",
      " Police_Force                                | 1             \n",
      " Accident_Severity                           | 3             \n",
      " Number_of_Vehicles                          | 1             \n",
      " Number_of_Casualties                        | 1             \n",
      " Date                                        | 10/01/2005    \n",
      " Day_of_Week                                 | 2             \n",
      " Time                                        | 21:13         \n",
      " 1st_Road_Class                              | 6             \n",
      " Road_Type                                   | 6             \n",
      " Speed_limit                                 | 30            \n",
      " Junction_Detail                             | 0             \n",
      " Junction_Control                            | -1            \n",
      " Light_Conditions                            | 7             \n",
      " Weather_Conditions                          | 1             \n",
      " Road_Surface_Conditions                     | 2             \n",
      " Special_Conditions_at_Site                  | 0             \n",
      " Urban_or_Rural_Area                         | 1             \n",
      " Did_Police_Officer_Attend_Scene_of_Accident | 1             \n",
      " LSOA_of_Accident_Location                   | E01002863     \n",
      "only showing top 5 rows\n",
      "\n"
     ]
    }
   ],
   "source": [
    "accidentData_df.show(5, vertical=True)"
   ]
  },
  {
   "cell_type": "code",
   "execution_count": 9,
   "id": "c4fdebee",
   "metadata": {},
   "outputs": [
    {
     "name": "stdout",
     "output_type": "stream",
     "text": [
      "-RECORD 0-----------------------------------------\n",
      " Food Standard Agency's ID | 24                   \n",
      " name                      | Angel Inn            \n",
      " address                   | 43 Friars Street,... \n",
      " postcode                  | CO10 2AG             \n",
      " easting                   | 587207.0             \n",
      " northing                  | 241058.0             \n",
      " latitude                  | 52.036312            \n",
      " longitude                 | 0.727924             \n",
      " local_authority           | Babergh              \n",
      "-RECORD 1-----------------------------------------\n",
      " Food Standard Agency's ID | 33                   \n",
      " name                      | Ark Bar Restaurant   \n",
      " address                   | Ark Bar And Resta... \n",
      " postcode                  | CO11 1RH             \n",
      " easting                   | 610194.0             \n",
      " northing                  | 233329.0             \n",
      " latitude                  | 51.958698            \n",
      " longitude                 | 1.057832             \n",
      " local_authority           | Babergh              \n",
      "-RECORD 2-----------------------------------------\n",
      " Food Standard Agency's ID | 60                   \n",
      " name                      | Black Boy            \n",
      " address                   | Black Boy Hotel, ... \n",
      " postcode                  | CO10 2EA             \n",
      " easting                   | 587356.0             \n",
      " northing                  | 241327.0             \n",
      " latitude                  | 52.038685            \n",
      " longitude                 | 0.730226             \n",
      " local_authority           | Babergh              \n",
      "-RECORD 3-----------------------------------------\n",
      " Food Standard Agency's ID | 61                   \n",
      " name                      | Black Horse          \n",
      " address                   | Lower Street, Str... \n",
      " postcode                  | CO7 6JS              \n",
      " easting                   | 604270.0             \n",
      " northing                  | 233920.0             \n",
      " latitude                  | 51.966211            \n",
      " longitude                 | 0.972091             \n",
      " local_authority           | Babergh              \n",
      "-RECORD 4-----------------------------------------\n",
      " Food Standard Agency's ID | 62                   \n",
      " name                      | Black Lion           \n",
      " address                   | Lion Road, Glemsf... \n",
      " postcode                  | CO10 7RF             \n",
      " easting                   | 582750.0             \n",
      " northing                  | 248298.0             \n",
      " latitude                  | 52.102815            \n",
      " longitude                 | 0.666893             \n",
      " local_authority           | Babergh              \n",
      "only showing top 5 rows\n",
      "\n"
     ]
    }
   ],
   "source": [
    "pubsData_df.show(5, vertical=True)"
   ]
  },
  {
   "cell_type": "code",
   "execution_count": 10,
   "id": "ec46fae2",
   "metadata": {},
   "outputs": [],
   "source": [
    "#Creating Table\n",
    "pubsData_df.registerTempTable('pubsTable')\n",
    "accidentData_df.registerTempTable('accidentTable')\n",
    "spark = SparkSession.builder.getOrCreate()\n",
    "sqlContext = SQLContext(spark)#Running Query\n",
    "#Running Query\n",
    "df1 = sqlContext.sql(\"SELECT COUNT(local_authority) as count,local_authority from pubsTable group by local_authority order by count\")\n",
    "df2 = sqlContext.sql(\"SELECT COUNT(Number_of_Casualties) as count_casulties,SPEED_LIMIT FROM accidentTable group by SPEED_LIMIT order by SPEED_LIMIT\")\n",
    "## type sql dataframe .collect to get list"
   ]
  },
  {
   "cell_type": "code",
   "execution_count": 11,
   "id": "3760e3aa",
   "metadata": {},
   "outputs": [
    {
     "name": "stdout",
     "output_type": "stream",
     "text": [
      "[4, 2, 16160, 983411, 128365, 49398, 229611, 113047]\n"
     ]
    },
    {
     "data": {
      "image/png": "[encoded data removed]",
      "text/plain": [
       "<Figure size 432x288 with 1 Axes>"
      ]
     },
     "metadata": {
      "needs_background": "light"
     },
     "output_type": "display_data"
    }
   ],
   "source": [
    "list_casulties_speed=[]\n",
    "list_speed_casulties=[]\n",
    "for x in df2.collect():\n",
    "    list_casulties_speed.append(x[0])\n",
    "    list_speed_casulties.append(int(x[1]))\n",
    "print(list_casulties_speed)\n",
    "plt.bar(list_speed_casulties,list_casulties_speed)\n",
    "plt.title(\"Aantal gevallen per snelheids drempel\")\n",
    "plt.xlabel('Snelheid')\n",
    "plt.ylabel('Aantal Slachtoffers')\n",
    "plt.show()"
   ]
  },
  {
   "cell_type": "code",
   "execution_count": 12,
   "id": "edcf5b72",
   "metadata": {},
   "outputs": [],
   "source": [
    "local_authority=[]\n",
    "for row in df1.collect():\n",
    "    local_authority.append(row.local_authority)"
   ]
  },
  {
   "cell_type": "code",
   "execution_count": 13,
   "id": "7e6aaabc",
   "metadata": {},
   "outputs": [
    {
     "data": {
      "application/vnd.jupyter.widget-view+json": {
       "model_id": "54f132740c3e4e91b20e99535dab1757",
       "version_major": 2,
       "version_minor": 0
      },
      "text/plain": [
       "Dropdown(description='Authority:', options=('Isles of Scilly', 'East Renfrewshire', 'Orkney Islands', 'Na h-Ei…"
      ]
     },
     "metadata": {},
     "output_type": "display_data"
    },
    {
     "data": {
      "text/plain": [
       "None"
      ]
     },
     "metadata": {},
     "output_type": "display_data"
    }
   ],
   "source": [
    "choose_local_authority = widgets.Dropdown(\n",
    "    options=local_authority,\n",
    "    value='Isles of Scilly',\n",
    "    description='Authority:',\n",
    ")\n",
    "\n",
    "def load_map_points(local_authority):\n",
    "    df1 = sqlContext.sql(\"SELECT * from pubsTable where local_authority='\"+local_authority+\"'\")\n",
    "    local_authority_coordinates = (df1.collect()[0].latitude,df1.collect()[0].longitude)\n",
    "    map = folium.Map(location=local_authority_coordinates, zoom_start=11.5)\n",
    "    ## testing \n",
    "    counter=0\n",
    "    for row in df1.collect():\n",
    "        folium.Marker(location = [row.latitude,row.longitude]).add_to(map)\n",
    "    display(map)\n",
    "def on_change(change):\n",
    "    if change['type'] == 'change' and change['name'] == 'value':\n",
    "        load_map_points(change['new'])\n",
    "choose_local_authority.observe(on_change)\n",
    "display(display(choose_local_authority))"
   ]
  },
  {
   "cell_type": "code",
   "execution_count": 14,
   "id": "e1e3b1f0",
   "metadata": {},
   "outputs": [],
   "source": [
    "### twee dataframes in één dataframe joinen m.b.v. ID(Accident_Index). Beide dataframes hebben evenveel records.\n",
    "joined = accidentData_df.alias(\"A\").join(casualtiesData_df.alias(\"B\"),col(\"A.Accident_Index\") == col(\"B.Accident_Index\"),\"inner\").select(col(\"A.Accident_Index\"), col(\"A.Longitude\"),col(\"A.Latitude\"), col(\"A.Police_Force\"), col(\"A.Accident_Severity\"), col(\"A.Number_of_Vehicles\"), col(\"A.Number_of_Casualties\"), col(\"A.Date\"), col(\"A.Day_of_Week\"),col(\"A.Time\"), col(\"A.1st_Road_Class\"), col(\"A.Road_Type\"), col(\"A.Speed_limit\"), col(\"A.Junction_Detail\"), col(\"A.Junction_Control\"), col(\"A.Light_Conditions\"), col(\"A.Weather_Conditions\"), col(\"A.Road_Surface_Conditions\"), col(\"A.Special_Conditions_at_Site\"), col(\"A.Urban_or_Rural_Area\"), col(\"A.Did_Police_Officer_Attend_Scene_of_Accident\"), col(\"A.LSOA_of_Accident_Location\"), col(\"B.Casualty_Class\"), col(\"B.Sex_of_Casualty\"), col(\"B.Age_of_Casualty\"), col(\"B.Casualty_Severity\"), col(\"B.Pedestrian_Location\"), col(\"B.Car_Passenger\"), col(\"B.Casualty_Type\")).toDF(\"Accident_Index\", \"Longitude\",\"Latitude\",\"Police_Force\", \"Accident_Severity\",\"Number_of_Vehicles\", \"Number_of_Casualties\", \"Date\", \"Day_of_Week\",\"Time\",\"1st_Road_Class\", \"Road_Type\", \"Speed_limit\",\"Junction_Detail\", \"Junction_Control\",\"Light_Conditions\", \"Weather_Conditions\",\"Road_Surface_Conditions\",\"Special_Conditions_at_Site\",\"Urban_or_Rural_Area\", \"Did_Police_Officer_Attend_Scene_of_Accident\", \"LSOA_of_Accident_Location\",\"Casualty_Class\",\"Sex_of_Casualty\",\"Age_of_Casualty\",\"Casualty_Severity\",\"Pedestrian_Location\",\"Car_Passenger\",\"Casualty_Type\")"
   ]
  },
  {
   "cell_type": "code",
   "execution_count": 15,
   "id": "3441fa05",
   "metadata": {},
   "outputs": [
    {
     "name": "stdout",
     "output_type": "stream",
     "text": [
      "+-------------+-------+\n",
      "|Casualty_Type|  count|\n",
      "+-------------+-------+\n",
      "|           11|  57485|\n",
      "|            3|  63957|\n",
      "|            8|  28020|\n",
      "|           22|    331|\n",
      "|           16|   1116|\n",
      "|            0| 251398|\n",
      "|           98|     50|\n",
      "|            5|  80881|\n",
      "|           18|    102|\n",
      "|           17|   1007|\n",
      "|           90|   9338|\n",
      "|           19|  45911|\n",
      "|           23|     17|\n",
      "|           97|    193|\n",
      "|            9|1270126|\n",
      "|            1| 169654|\n",
      "|           20|   5500|\n",
      "|           10|   6767|\n",
      "|            4|  22117|\n",
      "|           21|  11037|\n",
      "+-------------+-------+\n",
      "only showing top 20 rows\n",
      "\n"
     ]
    }
   ],
   "source": [
    "### Soorten voertuigen\n",
    "\n",
    "joined.groupby(\"Casualty_Type\").count().show()"
   ]
  },
  {
   "cell_type": "code",
   "execution_count": 16,
   "id": "52d3b1d5",
   "metadata": {},
   "outputs": [],
   "source": [
    "joined = joined.where(\"Casualty_Type!=16\")\n",
    "joined = joined.where(\"Casualty_Type!=17\")\n",
    "joined = joined.where(\"Casualty_Type!=18\")\n",
    "joined = joined.where(\"Casualty_Type!=8\")\n",
    "joined = joined.where(\"Casualty_Type!=10\")\n",
    "joined = joined.where(\"Casualty_Type!=11\")\n",
    "joined = joined.where(\"Casualty_Type!=19\")\n",
    "joined = joined.where(\"Casualty_Type!=20\")\n",
    "joined = joined.where(\"Casualty_Type!=21\")\n",
    "joined = joined.where(\"Casualty_Type!=90\")\n",
    "joined = joined.where(\"Casualty_Type!=98\")"
   ]
  },
  {
   "cell_type": "code",
   "execution_count": 17,
   "id": "99250a66",
   "metadata": {},
   "outputs": [
    {
     "name": "stdout",
     "output_type": "stream",
     "text": [
      "+--------------+-------+\n",
      "|Casualty_Class|  count|\n",
      "+--------------+-------+\n",
      "|             3| 251398|\n",
      "|             1|1228263|\n",
      "|             2| 412585|\n",
      "+--------------+-------+\n",
      "\n",
      "Casualty_Class geeft aan of de persoon in kwestie een passagier(2), bestuurder van een voertuig(1) of een voetganger(3) is. Aangezien wij opzoek zijn naar accidenten die werden veroorzaakt door dronken mensen, lijkt het mij onwaarschijnlijk dat passagiers van voertuigen de oorzaak kunnen zijn van een accident dus ik dacht misschien Casualty_Class(2) weglaten?\n"
     ]
    }
   ],
   "source": [
    "### Casualty Class\n",
    "joined.groupby(\"Casualty_Class\").count().show()\n",
    "print(\"Casualty_Class geeft aan of de persoon in kwestie een passagier(2), bestuurder van een voertuig(1) of een voetganger(3) is. Aangezien wij opzoek zijn naar accidenten die werden veroorzaakt door dronken mensen, lijkt het mij onwaarschijnlijk dat passagiers van voertuigen de oorzaak kunnen zijn van een accident dus ik dacht misschien Casualty_Class(2) weglaten?\")\n",
    "joined = joined.where(\"Casualty_Class!= 2\")"
   ]
  },
  {
   "cell_type": "code",
   "execution_count": 18,
   "id": "07f935dd",
   "metadata": {},
   "outputs": [
    {
     "name": "stdout",
     "output_type": "stream",
     "text": [
      "+---------------+-----+\n",
      "|Age_of_Casualty|count|\n",
      "+---------------+-----+\n",
      "|             51|17405|\n",
      "|              7| 5068|\n",
      "|             54|14564|\n",
      "|             -1|24689|\n",
      "|             15|11704|\n",
      "|             11|11852|\n",
      "|             29|30037|\n",
      "|             69| 5586|\n",
      "|             42|26361|\n",
      "|             73| 4721|\n",
      "|             87| 1684|\n",
      "|             64| 7934|\n",
      "|              3| 3129|\n",
      "|             30|34053|\n",
      "|             34|26827|\n",
      "|             59|11554|\n",
      "|              8| 5730|\n",
      "|             28|31712|\n",
      "|             22|39418|\n",
      "|             85| 2518|\n",
      "+---------------+-----+\n",
      "only showing top 20 rows\n",
      "\n",
      "Er zitten hier records van kinderen 3, 8 jaar enzo. in die andere excel bestand die jij hebt gestuurd was alle info over 16+ mensen. Dus hier weeral al die kinderen verwijderen? Age_of_Casualty met waarde -1 zijn gevallen waar de leeftijd niet gekend is\n"
     ]
    }
   ],
   "source": [
    "### Leeftijd\n",
    "joined.groupby(\"Age_of_Casualty\").count().show(20)\n",
    "print(\"Er zitten hier records van kinderen 3, 8 jaar enzo. in die andere excel bestand die jij hebt gestuurd was alle info over 16+ mensen. Dus hier weeral al die kinderen verwijderen? Age_of_Casualty met waarde -1 zijn gevallen waar de leeftijd niet gekend is\")"
   ]
  },
  {
   "cell_type": "code",
   "execution_count": 19,
   "id": "d4a3cc62",
   "metadata": {},
   "outputs": [],
   "source": [
    "joined = joined.where(\"Age_of_Casualty >= 16\")"
   ]
  },
  {
   "cell_type": "code",
   "execution_count": 20,
   "id": "a7600c64",
   "metadata": {},
   "outputs": [
    {
     "ename": "Py4JJavaError",
     "evalue": "An error occurred while calling o133.javaToPython.\n: java.lang.OutOfMemoryError: Java heap space\r\n",
     "output_type": "error",
     "traceback": [
      "\u001b[1;31m---------------------------------------------------------------------------\u001b[0m",
      "\u001b[1;31mPy4JJavaError\u001b[0m                             Traceback (most recent call last)",
      "\u001b[1;32m<ipython-input-20-946709e5798e>\u001b[0m in \u001b[0;36m<module>\u001b[1;34m\u001b[0m\n\u001b[0;32m     19\u001b[0m \u001b[0mjoined\u001b[0m \u001b[1;33m=\u001b[0m \u001b[0mjoined\u001b[0m\u001b[1;33m.\u001b[0m\u001b[0mwithColumn\u001b[0m\u001b[1;33m(\u001b[0m\u001b[1;34m\"Age_of_Casualty\"\u001b[0m\u001b[1;33m,\u001b[0m \u001b[0mcol\u001b[0m\u001b[1;33m(\u001b[0m\u001b[1;34m\"Age_of_Casualty\"\u001b[0m\u001b[1;33m)\u001b[0m\u001b[1;33m.\u001b[0m\u001b[0mcast\u001b[0m\u001b[1;33m(\u001b[0m\u001b[1;34m\"int\"\u001b[0m\u001b[1;33m)\u001b[0m\u001b[1;33m)\u001b[0m\u001b[1;33m\u001b[0m\u001b[1;33m\u001b[0m\u001b[0m\n\u001b[0;32m     20\u001b[0m \u001b[0mjoined\u001b[0m \u001b[1;33m=\u001b[0m \u001b[0mjoined\u001b[0m\u001b[1;33m.\u001b[0m\u001b[0mwithColumnRenamed\u001b[0m\u001b[1;33m(\u001b[0m\u001b[1;34m\"1st_Road_Class\"\u001b[0m\u001b[1;33m,\u001b[0m \u001b[1;34m\"First_Road_Class\"\u001b[0m\u001b[1;33m)\u001b[0m\u001b[1;33m\u001b[0m\u001b[1;33m\u001b[0m\u001b[0m\n\u001b[1;32m---> 21\u001b[1;33m joined2 = joined.rdd.map(lambda x: (x.Accident_Index, x.Longitude, \n\u001b[0m\u001b[0;32m     22\u001b[0m                                     \u001b[0mx\u001b[0m\u001b[1;33m.\u001b[0m\u001b[0mLatitude\u001b[0m\u001b[1;33m,\u001b[0m \u001b[0mx\u001b[0m\u001b[1;33m.\u001b[0m\u001b[0mPolice_Force\u001b[0m\u001b[1;33m,\u001b[0m \u001b[0mx\u001b[0m\u001b[1;33m.\u001b[0m\u001b[0mAccident_Severity\u001b[0m\u001b[1;33m,\u001b[0m \u001b[0mx\u001b[0m\u001b[1;33m.\u001b[0m\u001b[0mNumber_of_Vehicles\u001b[0m\u001b[1;33m,\u001b[0m\u001b[1;33m\u001b[0m\u001b[1;33m\u001b[0m\u001b[0m\n\u001b[0;32m     23\u001b[0m                                     \u001b[0mx\u001b[0m\u001b[1;33m.\u001b[0m\u001b[0mNumber_of_Casualties\u001b[0m\u001b[1;33m,\u001b[0m \u001b[0mx\u001b[0m\u001b[1;33m.\u001b[0m\u001b[0mDate\u001b[0m\u001b[1;33m,\u001b[0m \u001b[0mx\u001b[0m\u001b[1;33m.\u001b[0m\u001b[0mDay_of_Week\u001b[0m\u001b[1;33m,\u001b[0m \u001b[0mx\u001b[0m\u001b[1;33m.\u001b[0m\u001b[0mTime\u001b[0m\u001b[1;33m,\u001b[0m \u001b[0mx\u001b[0m\u001b[1;33m.\u001b[0m\u001b[0mFirst_Road_Class\u001b[0m\u001b[1;33m,\u001b[0m\u001b[1;33m\u001b[0m\u001b[1;33m\u001b[0m\u001b[0m\n",
      "\u001b[1;32m~\\anaconda3\\lib\\site-packages\\pyspark\\sql\\dataframe.py\u001b[0m in \u001b[0;36mrdd\u001b[1;34m(self)\u001b[0m\n\u001b[0;32m     83\u001b[0m         \"\"\"\n\u001b[0;32m     84\u001b[0m         \u001b[1;32mif\u001b[0m \u001b[0mself\u001b[0m\u001b[1;33m.\u001b[0m\u001b[0m_lazy_rdd\u001b[0m \u001b[1;32mis\u001b[0m \u001b[1;32mNone\u001b[0m\u001b[1;33m:\u001b[0m\u001b[1;33m\u001b[0m\u001b[1;33m\u001b[0m\u001b[0m\n\u001b[1;32m---> 85\u001b[1;33m             \u001b[0mjrdd\u001b[0m \u001b[1;33m=\u001b[0m \u001b[0mself\u001b[0m\u001b[1;33m.\u001b[0m\u001b[0m_jdf\u001b[0m\u001b[1;33m.\u001b[0m\u001b[0mjavaToPython\u001b[0m\u001b[1;33m(\u001b[0m\u001b[1;33m)\u001b[0m\u001b[1;33m\u001b[0m\u001b[1;33m\u001b[0m\u001b[0m\n\u001b[0m\u001b[0;32m     86\u001b[0m             \u001b[0mself\u001b[0m\u001b[1;33m.\u001b[0m\u001b[0m_lazy_rdd\u001b[0m \u001b[1;33m=\u001b[0m \u001b[0mRDD\u001b[0m\u001b[1;33m(\u001b[0m\u001b[0mjrdd\u001b[0m\u001b[1;33m,\u001b[0m \u001b[0mself\u001b[0m\u001b[1;33m.\u001b[0m\u001b[0msql_ctx\u001b[0m\u001b[1;33m.\u001b[0m\u001b[0m_sc\u001b[0m\u001b[1;33m,\u001b[0m \u001b[0mBatchedSerializer\u001b[0m\u001b[1;33m(\u001b[0m\u001b[0mPickleSerializer\u001b[0m\u001b[1;33m(\u001b[0m\u001b[1;33m)\u001b[0m\u001b[1;33m)\u001b[0m\u001b[1;33m)\u001b[0m\u001b[1;33m\u001b[0m\u001b[1;33m\u001b[0m\u001b[0m\n\u001b[0;32m     87\u001b[0m         \u001b[1;32mreturn\u001b[0m \u001b[0mself\u001b[0m\u001b[1;33m.\u001b[0m\u001b[0m_lazy_rdd\u001b[0m\u001b[1;33m\u001b[0m\u001b[1;33m\u001b[0m\u001b[0m\n",
      "\u001b[1;32m~\\anaconda3\\lib\\site-packages\\py4j\\java_gateway.py\u001b[0m in \u001b[0;36m__call__\u001b[1;34m(self, *args)\u001b[0m\n\u001b[0;32m   1302\u001b[0m \u001b[1;33m\u001b[0m\u001b[0m\n\u001b[0;32m   1303\u001b[0m         \u001b[0manswer\u001b[0m \u001b[1;33m=\u001b[0m \u001b[0mself\u001b[0m\u001b[1;33m.\u001b[0m\u001b[0mgateway_client\u001b[0m\u001b[1;33m.\u001b[0m\u001b[0msend_command\u001b[0m\u001b[1;33m(\u001b[0m\u001b[0mcommand\u001b[0m\u001b[1;33m)\u001b[0m\u001b[1;33m\u001b[0m\u001b[1;33m\u001b[0m\u001b[0m\n\u001b[1;32m-> 1304\u001b[1;33m         return_value = get_return_value(\n\u001b[0m\u001b[0;32m   1305\u001b[0m             answer, self.gateway_client, self.target_id, self.name)\n\u001b[0;32m   1306\u001b[0m \u001b[1;33m\u001b[0m\u001b[0m\n",
      "\u001b[1;32m~\\anaconda3\\lib\\site-packages\\pyspark\\sql\\utils.py\u001b[0m in \u001b[0;36mdeco\u001b[1;34m(*a, **kw)\u001b[0m\n\u001b[0;32m    109\u001b[0m     \u001b[1;32mdef\u001b[0m \u001b[0mdeco\u001b[0m\u001b[1;33m(\u001b[0m\u001b[1;33m*\u001b[0m\u001b[0ma\u001b[0m\u001b[1;33m,\u001b[0m \u001b[1;33m**\u001b[0m\u001b[0mkw\u001b[0m\u001b[1;33m)\u001b[0m\u001b[1;33m:\u001b[0m\u001b[1;33m\u001b[0m\u001b[1;33m\u001b[0m\u001b[0m\n\u001b[0;32m    110\u001b[0m         \u001b[1;32mtry\u001b[0m\u001b[1;33m:\u001b[0m\u001b[1;33m\u001b[0m\u001b[1;33m\u001b[0m\u001b[0m\n\u001b[1;32m--> 111\u001b[1;33m             \u001b[1;32mreturn\u001b[0m \u001b[0mf\u001b[0m\u001b[1;33m(\u001b[0m\u001b[1;33m*\u001b[0m\u001b[0ma\u001b[0m\u001b[1;33m,\u001b[0m \u001b[1;33m**\u001b[0m\u001b[0mkw\u001b[0m\u001b[1;33m)\u001b[0m\u001b[1;33m\u001b[0m\u001b[1;33m\u001b[0m\u001b[0m\n\u001b[0m\u001b[0;32m    112\u001b[0m         \u001b[1;32mexcept\u001b[0m \u001b[0mpy4j\u001b[0m\u001b[1;33m.\u001b[0m\u001b[0mprotocol\u001b[0m\u001b[1;33m.\u001b[0m\u001b[0mPy4JJavaError\u001b[0m \u001b[1;32mas\u001b[0m \u001b[0me\u001b[0m\u001b[1;33m:\u001b[0m\u001b[1;33m\u001b[0m\u001b[1;33m\u001b[0m\u001b[0m\n\u001b[0;32m    113\u001b[0m             \u001b[0mconverted\u001b[0m \u001b[1;33m=\u001b[0m \u001b[0mconvert_exception\u001b[0m\u001b[1;33m(\u001b[0m\u001b[0me\u001b[0m\u001b[1;33m.\u001b[0m\u001b[0mjava_exception\u001b[0m\u001b[1;33m)\u001b[0m\u001b[1;33m\u001b[0m\u001b[1;33m\u001b[0m\u001b[0m\n",
      "\u001b[1;32m~\\anaconda3\\lib\\site-packages\\py4j\\protocol.py\u001b[0m in \u001b[0;36mget_return_value\u001b[1;34m(answer, gateway_client, target_id, name)\u001b[0m\n\u001b[0;32m    324\u001b[0m             \u001b[0mvalue\u001b[0m \u001b[1;33m=\u001b[0m \u001b[0mOUTPUT_CONVERTER\u001b[0m\u001b[1;33m[\u001b[0m\u001b[0mtype\u001b[0m\u001b[1;33m]\u001b[0m\u001b[1;33m(\u001b[0m\u001b[0manswer\u001b[0m\u001b[1;33m[\u001b[0m\u001b[1;36m2\u001b[0m\u001b[1;33m:\u001b[0m\u001b[1;33m]\u001b[0m\u001b[1;33m,\u001b[0m \u001b[0mgateway_client\u001b[0m\u001b[1;33m)\u001b[0m\u001b[1;33m\u001b[0m\u001b[1;33m\u001b[0m\u001b[0m\n\u001b[0;32m    325\u001b[0m             \u001b[1;32mif\u001b[0m \u001b[0manswer\u001b[0m\u001b[1;33m[\u001b[0m\u001b[1;36m1\u001b[0m\u001b[1;33m]\u001b[0m \u001b[1;33m==\u001b[0m \u001b[0mREFERENCE_TYPE\u001b[0m\u001b[1;33m:\u001b[0m\u001b[1;33m\u001b[0m\u001b[1;33m\u001b[0m\u001b[0m\n\u001b[1;32m--> 326\u001b[1;33m                 raise Py4JJavaError(\n\u001b[0m\u001b[0;32m    327\u001b[0m                     \u001b[1;34m\"An error occurred while calling {0}{1}{2}.\\n\"\u001b[0m\u001b[1;33m.\u001b[0m\u001b[1;33m\u001b[0m\u001b[1;33m\u001b[0m\u001b[0m\n\u001b[0;32m    328\u001b[0m                     format(target_id, \".\", name), value)\n",
      "\u001b[1;31mPy4JJavaError\u001b[0m: An error occurred while calling o133.javaToPython.\n: java.lang.OutOfMemoryError: Java heap space\r\n"
     ]
    }
   ],
   "source": [
    "def sort_age(age):\n",
    "    age = int(age)\n",
    "    if 16 <= age < 25:\n",
    "        return \"16-24\"\n",
    "    elif 25 <= age < 30:\n",
    "        return \"25-29\"\n",
    "    elif 30<=age <35:\n",
    "        return \"30-34\"\n",
    "    elif 35<= age <40:\n",
    "        return \"35-39\"\n",
    "    elif 40<= age <50:\n",
    "        return \"40-49\"\n",
    "    elif 50<= age <60:\n",
    "        return \"50-59\"\n",
    "    else:\n",
    "        return \"+60\"\n",
    "\n",
    "\n",
    "joined = joined.withColumn(\"Age_of_Casualty\", col(\"Age_of_Casualty\").cast(\"int\"))\n",
    "joined = joined.withColumnRenamed(\"1st_Road_Class\", \"First_Road_Class\")\n",
    "joined2 = joined.rdd.map(lambda x: (x.Accident_Index, x.Longitude, \n",
    "                                    x.Latitude, x.Police_Force, x.Accident_Severity, x.Number_of_Vehicles, \n",
    "                                    x.Number_of_Casualties, x.Date, x.Day_of_Week, x.Time, x.First_Road_Class, \n",
    "                                    x.Road_Type, x.Speed_limit, x.Junction_Detail, x.Junction_Control, x.Light_Conditions, \n",
    "                                    x.Weather_Conditions,\n",
    "                                    x.Road_Surface_Conditions, x.Special_Conditions_at_Site,\n",
    "                                    x.Urban_or_Rural_Area, x.Did_Police_Officer_Attend_Scene_of_Accident, x.LSOA_of_Accident_Location, x.Casualty_Class, x.Sex_of_Casualty, x.Age_of_Casualty, x.Casualty_Severity, x.Pedestrian_Location, x.Car_Passenger, x.Casualty_Type, sort_age(x.Age_of_Casualty)))\n",
    "\n",
    "joined2 = joined2.toDF([\"Accident_Index\", \"Longitude\" , \"Latitude\" , \"Police_Force\" , \"Accident_Severity\" ,\n",
    "       \"Number_of_Vehicles\" , \"Number_of_Casualties\" , \"Date\" , \"Day_of_Week\" , \"Time\" , \"1st_Road_Class\" , \"Road_Type\" , \"Speed_limit\" , \"Junction_Detail\" , \"Junction_Control\" , \"Light_Conditions\" , \"Weather_Conditions\" , \"Road_Surface_Conditions\" , \"Special_Conditions_at_Site\" , \"Urban_or_Rural_Area\" ,\n",
    "       \"Did_Police_Officer_Attend_Scene_of_Accident\" , \"LSOA_of_Accident_Location\" , \"Casualty_Class\" , \"Sex_of_Casualty\" , \n",
    "       \"Age_of_Casualty\" , \"Casualty_Severity\" , \"Pedestrian_Location\" , \"Car_Passenger\" , \"Casualty_Type\" , \"Age_Cat\"])"
   ]
  },
  {
   "cell_type": "code",
   "execution_count": null,
   "id": "23a1a46c",
   "metadata": {},
   "outputs": [],
   "source": [
    "joined2.show(20, vertical= True)"
   ]
  },
  {
   "cell_type": "code",
   "execution_count": null,
   "id": "542acde7",
   "metadata": {},
   "outputs": [],
   "source": [
    "### Aantal accidenten per leeftijdscategorie\n",
    "cat = joined2.groupby(\"Age_Cat\").count().toDF(\"Age_Cat\", \"count\")\n",
    "age_cat=[]\n",
    "age_cat_amount=[]"
   ]
  },
  {
   "cell_type": "code",
   "execution_count": null,
   "id": "a40cec19",
   "metadata": {},
   "outputs": [],
   "source": [
    "for x in cat.collect():\n",
    "    age_cat.append(x[0])\n",
    "    age_cat_amount.append(int(x[1]))\n",
    "print(age_cat)"
   ]
  },
  {
   "cell_type": "code",
   "execution_count": null,
   "id": "c3ef011d",
   "metadata": {},
   "outputs": [],
   "source": [
    "plt.bar(age_cat,age_cat_amount)\n",
    "plt.title('Aantal accidenten per leeftijdscategorie')"
   ]
  },
  {
   "cell_type": "code",
   "execution_count": null,
   "id": "90c7a943",
   "metadata": {},
   "outputs": [],
   "source": [
    "### Aantal accidenten per Leeftijdscategorie en ernstigheid van het incident\n",
    "cat2 = joined2.groupby(\"Age_Cat\", \"Accident_Severity\").count().toDF(\"Age_Cat\", \"Accident_Severity\", \"count\").orderBy(asc(\"Accident_Severity\"))"
   ]
  },
  {
   "cell_type": "code",
   "execution_count": null,
   "id": "a4ad0c63",
   "metadata": {},
   "outputs": [],
   "source": [
    "age_cat=[]\n",
    "age_cat_amount=[]\n",
    "severity1=[]\n",
    "severity2=[]\n",
    "severity3=[]\n",
    "amount1=[]\n",
    "amount2=[]\n",
    "amount3=[]\n",
    "for x in cat2.collect():\n",
    "    if x[0] == \"Child\" and x[1]== 1:\n",
    "        age_cat.append(x[0])\n",
    "        age_cat_amount.append(x[2])\n",
    "        severity.append(x[1])\n",
    "    elif x[0] == \"Child\" and x[1]== 2:\n",
    "        age_cat.append(x[0])\n",
    "        age_cat_amount.append(x[2])\n",
    "        severity.append(x[1])\n",
    "    elif x[0] == \"Child\" and x[1]== 3:\n",
    "        age_cat.append(x[0])\n",
    "        age_cat_amount.append(x[2])\n",
    "        severity.append(x[1])\n",
    "    elif x[0] == \"16-24\" and x[1]== 1:\n",
    "        age_cat.append(x[0])\n",
    "        age_cat_amount.append(x[2])\n",
    "        severity.append(x[1])\n",
    "    elif x[0] == \"16-24\" and x[1]== 2:\n",
    "        age_cat.append(x[0])\n",
    "        age_cat_amount.append(x[2])\n",
    "        severity.append(x[1])\n",
    "    elif x[0] == \"16-24\" and x[1]== 3:\n",
    "        age_cat.append(x[0])\n",
    "        age_cat_amount.append(x[2])\n",
    "        severity.append(x[1])\n",
    "    elif x[0] == \"25-34\" and x[1]== 1:\n",
    "        age_cat.append(x[0])\n",
    "        age_cat_amount.append(x[2])\n",
    "        severity.append(x[1])\n",
    "    elif x[0] == \"25-34\" and x[1]== 2:\n",
    "        age_cat.append(x[0])\n",
    "        age_cat_amount.append(x[2])\n",
    "        severity.append(x[1])\n",
    "    elif x[0] == \"25-34\" and x[1]== 3:\n",
    "        age_cat.append(x[0])\n",
    "        age_cat_amount.append(x[2])\n",
    "        severity.append(x[1])\n",
    "    elif x[0] == \"35-44\" and x[1]== 1:\n",
    "        age_cat.append(x[0])\n",
    "        age_cat_amount.append(x[2])\n",
    "        severity.append(x[1])\n",
    "    elif x[0] == \"35-44\" and x[1]== 2:\n",
    "        age_cat.append(x[0])\n",
    "        age_cat_amount.append(x[2])\n",
    "        severity.append(x[1])\n",
    "    elif x[0] == \"35-44\" and x[1]== 3:\n",
    "        age_cat.append(x[0])\n",
    "        age_cat_amount.append(x[2])\n",
    "        severity.append(x[1])\n",
    "    elif x[0] == \"45-60\" and x[1]== 1:\n",
    "        age_cat.append(x[0])\n",
    "        age_cat_amount.append(x[2])\n",
    "        severity.append(x[1])\n",
    "    elif x[0] == \"45-60\" and x[1]== 2:\n",
    "        age_cat.append(x[0])\n",
    "        age_cat_amount.append(x[2])\n",
    "        severity.append(x[1])\n",
    "    elif x[0] == \"45-60\" and x[1]== 3:\n",
    "        age_cat.append(x[0])\n",
    "        age_cat_amount.append(x[2])\n",
    "        severity.append(x[1])\n",
    "    elif x[0] == \"+60\" and x[1]== 1:\n",
    "        age_cat.append(x[0])\n",
    "        age_cat_amount.append(x[2])\n",
    "        severity.append(x[1])\n",
    "    elif x[0] == \"+60\" and x[1]== 2:\n",
    "        age_cat.append(x[0])\n",
    "        age_cat_amount.append(x[2])\n",
    "        severity.append(x[1])\n",
    "    elif x[0] == \"+60\" and x[1]== 3:\n",
    "        age_cat.append(x[0])\n",
    "        age_cat_amount.append(x[2])\n",
    "        severity.append(x[1])\n",
    "    elif x[0] == \"Unknown\" and x[1]== 1:\n",
    "        age_cat.append(x[0])\n",
    "        age_cat_amount.append(x[2])\n",
    "        severity.append(x[1])\n",
    "    elif x[0] == \"Unknown\" and x[1]== 2:\n",
    "        age_cat.append(x[0])\n",
    "        age_cat_amount.append(x[2])\n",
    "        severity.append(x[1])\n",
    "    elif x[0] == \"Unknown\" and x[1]== 3:\n",
    "        age_cat.append(x[0])\n",
    "        age_cat_amount.append(x[2])\n",
    "        severity.append(x[1])"
   ]
  },
  {
   "cell_type": "markdown",
   "id": "12a94611",
   "metadata": {},
   "source": [
    "Kijken naar de accidenten doorheen de tijd"
   ]
  },
  {
   "cell_type": "code",
   "execution_count": null,
   "id": "85554f4f",
   "metadata": {},
   "outputs": [],
   "source": [
    "df1 = sqlContext.sql(\"SELECT Day_of_Week from accidentTable\")\n",
    "df1.show(5)"
   ]
  },
  {
   "cell_type": "code",
   "execution_count": null,
   "id": "b79b34cd",
   "metadata": {},
   "outputs": [],
   "source": [
    "df1 = sqlContext.sql(\"SELECT * from accidentTable\")\n",
    "UK_COORDINATES = (53.5500, -6.4333)\n",
    "map = folium.Map(location=UK_COORDINATES, zoom_start=5)\n",
    "## testing \n",
    "counter=0\n",
    "for indx,row in enumerate(df1.collect()):\n",
    "    print(indx)\n",
    "display(map)"
   ]
  }
 ],
 "metadata": {
  "kernelspec": {
   "display_name": "Python 3",
   "language": "python",
   "name": "python3"
  },
  "language_info": {
   "codemirror_mode": {
    "name": "ipython",
    "version": 3
   },
   "file_extension": ".py",
   "mimetype": "text/x-python",
   "name": "python",
   "nbconvert_exporter": "python",
   "pygments_lexer": "ipython3",
   "version": "3.8.8"
  }
 },
 "nbformat": 4,
 "nbformat_minor": 5
}
