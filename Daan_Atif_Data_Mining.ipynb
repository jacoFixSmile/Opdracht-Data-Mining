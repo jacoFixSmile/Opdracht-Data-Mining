{
 "cells": [
  {
   "cell_type": "code",
   "execution_count": null,
   "id": "f56db649",
   "metadata": {},
   "outputs": [],
   "source": [
    "import sys\n",
    "import findspark\n",
    "import pyspark\n",
    "!pip install folium\n",
    "import folium\n",
    "import math\n",
    "import numpy as np\n",
    "WhoIsWorking=\"Daan\"\n",
    "if(WhoIsWorking==\"Daan\"):\n",
    "    findspark.init(\"c:/Users/Eigenaar/spark-3.1.2-bin-hadoop3.2\")\n",
    "else:\n",
    "    findspark.init(\"C:\\\\spark-3.1.2-bin-hadoop3.2\\\\spark-3.1.2-bin-hadoop3.2\")"
   ]
  },
  {
   "cell_type": "code",
   "execution_count": null,
   "id": "a3412c8a",
   "metadata": {},
   "outputs": [],
   "source": [
    "from pyspark.sql import SparkSession\n",
    "from pyspark.sql import SQLContext\n",
    "from pyspark.sql.types import *\n",
    "from pyspark.sql.functions import avg\n",
    "from ipywidgets import widgets, interact, interactive, fixed, interact_manual\n",
    "from pyspark.sql.functions import col\n",
    "from collections import Counter\n",
    "from pyspark.sql.functions import count\n",
    "from folium.plugins import HeatMap\n",
    "import seaborn as sns\n",
    "import matplotlib.pyplot as plt\n",
    "import datetime\n",
    "from pyspark.sql.functions import year, month, dayofmonth, substring\n",
    "\n",
    "\n"
   ]
  },
  {
   "cell_type": "code",
   "execution_count": null,
   "id": "35da9807",
   "metadata": {},
   "outputs": [],
   "source": [
    "spark = SparkSession.builder.config(\"spark.driver.memory\", \"5g\").getOrCreate()"
   ]
  },
  {
   "cell_type": "markdown",
   "id": "1e25d39d",
   "metadata": {},
   "source": [
    "# Inleiding\n",
    "\n",
    "In dit onderzoek zal worden getracht om een verband te zoeken tussen de locaties van pubs en de locaties van accidenten in het Verenigd Koninkrijk.\n",
    "De gebruikte accidenten en casualties data komen beide van Kaggle: https://www.kaggle.com/benoit72/uk-accidents-10-years-history-with-many-variables . De dataset van de pubs komt ook van Kaggle. Verder wordt er, tijdens het onderzoek, ook gebruik gemaakt van datasets over bijvoorbeeld alcohol  blaastesten die werden genomen na een accident. Deze datasets zijn terug te vinden op https://www.gov.uk/government/statistical-data-sets/reported-drinking-and-driving-ras51 \n"
   ]
  },
  {
   "cell_type": "markdown",
   "id": "14758659",
   "metadata": {},
   "source": [
    "# Data exploratie\n",
    "\n",
    "### Data importeren\n",
    "pubs data, accidenten data en casualties data importeren"
   ]
  },
  {
   "cell_type": "code",
   "execution_count": null,
   "id": "91e51595",
   "metadata": {},
   "outputs": [],
   "source": [
    "\n",
    "#Creating schema's\n",
    "schema_pubs = StructType([\n",
    "    StructField(\"Food Standard Agency's ID\", StringType(), nullable=True),\n",
    "    StructField(\"name\", StringType(), nullable=True),\n",
    "    StructField(\"address\", StringType(), nullable=True),\n",
    "    StructField(\"postcode\", StringType(), nullable=True),\n",
    "    StructField(\"easting\", DoubleType(), nullable=True),\n",
    "    StructField(\"northing\", DoubleType(), nullable=True),\n",
    "    StructField(\"latitude\", DoubleType(), nullable=False),\n",
    "    StructField(\"longitude\", DoubleType(), nullable=False),\n",
    "    StructField(\"local_authority\", StringType(), nullable=True)\n",
    "\n",
    "])"
   ]
  },
  {
   "cell_type": "code",
   "execution_count": null,
   "id": "e34aef19",
   "metadata": {},
   "outputs": [],
   "source": [
    "# importing data \n",
    "\n",
    "### casualtiesData_df geeft meer info over het slachtoffer\n",
    "if(WhoIsWorking==\"Daan\"):\n",
    "    casualtiesData_df = spark.read.format('csv').option('header', True).load('Kaggle_datasets/Casualties0514.csv')\n",
    "    accidentData_df = spark.read.format('csv').option('header',True).load('Kaggle_datasets/Accidents0514.csv')\n",
    "    pubsData_df = spark.read.format('csv').option('header',False).schema(schema_pubs).load('open_pubs.csv')\n",
    "else:\n",
    "    accidentData_df = spark.read.format('csv').option('header',True).load('../../../Desktop/Data mining/Accidents0514.csv')\n",
    "    pubsData_df = spark.read.format('csv').option('header',False).schema(schema_pubs).load('open_pubs.csv')\n",
    "    casualtiesData_df = spark.read.format('csv').option('header', True).load('../../../Desktop/Data mining/Casualties0514.csv')"
   ]
  },
  {
   "cell_type": "markdown",
   "id": "fe6b575e",
   "metadata": {},
   "source": [
    "Records met lege values eruit halen. Hier worden ook kolommen gedropt die volgens ons weing zullen bijdragen tot het onderzoek of waarmee wij geen belangrijke diagram mee kunnen maken. "
   ]
  },
  {
   "cell_type": "code",
   "execution_count": null,
   "id": "9aee6f5f",
   "metadata": {},
   "outputs": [],
   "source": [
    "### Filter de pub data set\n",
    "counterRowsBeforePubs=pubsData_df.count()\n",
    "pubsData_df=pubsData_df.dropna(subset=[\"latitude\",\"longitude\"])\n",
    "print(counterRowsBeforePubs-pubsData_df.count(),\" rijen zijn verwijderd omdat ze lege waarden hadden.\")\n",
    "### nutteloze kolommen zoals Pedestrian_Crossing,Special_Condition_at_site, Carriageway_Hazards,  want volgens Kaggle hebben bijna alle records dezelfde data dus veel gaat deze kolom ons niet opleveren alleen maar een langere run time. heb ook Location_Northing_OSGR, Location_Easting_OSGR, Local_Authority_(District), Local_Authority_(Highway)1st_Road_Class, 1st_Road_Number, 2nd_Road_Class, 2nd_Road_Number, Pedestrian_Crossing-Human_Control, Pedestrian_Crossing-Physical_Facilities\n",
    "accidentData_df = accidentData_df.drop(\"Pedestrian_Crossing\", \"Special_Condition_at_site\",\"Local_Authority_(Highway)\", \"Carriageway_Hazards\",\"Location_Northing_OSGR\", \"Location_Easting_OSGR\", \"Local_Authority_(District)\", \"Local_Authority_(Highway)1st_Road_Class\", \"1st_Road_Number\", \"2nd_Road_Class\", \"2nd_Road_Number\", \"Pedestrian_Crossing-Human_Control\", \"Pedestrian_Crossing-Physical_Facilities\")\n",
    "### In casualtiesData heb ik ook een paar kolommen verwijderd => Pedestian_Location, Pedestrian_Movement, Bus_or_Coach_, Vehicle_Reference, Casualty_Reference, Age_Band_of_Casualty, Pedestrian_Road_Maintenance_Worker, Casualty_Home_Area_Type\n",
    "casualtiesData_df = casualtiesData_df.drop(\"Pedestian_Location\", \"Pedestrian_Movement\", \"Bus_or_Coach_Passenger\", \"Vehicle_Reference\", \"Casualty_Reference\", \"Age_Band_of_Casualty\", \"Pedestrian_Road_Maintenance_Worker\",\"Casualty_Home_Area_Type\" )\n",
    "print(\"Kolommen Vehicle_Reference en Casualty_Reference zijn zeer nuttige gegevens maar die waarden komen precies niet overeen met die tabel op Kaggle dus heb ze weggelaten. Kan dat ik verkeerd ben maar heb niets gevonden.\")\n"
   ]
  },
  {
   "cell_type": "code",
   "execution_count": null,
   "id": "816441ad",
   "metadata": {},
   "outputs": [],
   "source": [
    "### Filter de accident data set\n",
    "counterRowsBeforePubs=accidentData_df.count()\n",
    "accidentData_df=accidentData_df.na.drop()\n",
    "print(counterRowsBeforePubs-accidentData_df.count(),\" rijen zijn verwijderd omdat ze lege waarden hadden.\")\n",
    "\n",
    "### Filter de casaulties data\n",
    "counterRowsBeforeCasaul=casualtiesData_df.count()\n",
    "casualtiesData_df=casualtiesData_df.na.drop()\n",
    "print(counterRowsBeforeCasaul-casualtiesData_df.count(),\" rijen zijn verwijderd omdat ze lege waarden hadden.\")\n"
   ]
  },
  {
   "cell_type": "markdown",
   "id": "13165b94",
   "metadata": {},
   "source": [
    "### Data transformatie\n",
    "\n",
    "Hier worden datadrame van de accidenten en casualties gejoined in één dataframe"
   ]
  },
  {
   "cell_type": "code",
   "execution_count": null,
   "id": "c4fdebee",
   "metadata": {},
   "outputs": [],
   "source": [
    "### twee dataframes in één dataframe joinen m.b.v. ID(Accident_Index). Beide dataframes hebben evenveel records.\n",
    "joined = accidentData_df.alias(\"A\").join(casualtiesData_df.alias(\"B\"),col(\"A.Accident_Index\") == col(\"B.Accident_Index\"),\"inner\").select(col(\"A.Accident_Index\"), col(\"A.Longitude\"),col(\"A.Latitude\"), col(\"A.Police_Force\"), col(\"A.Accident_Severity\"), col(\"A.Number_of_Vehicles\"), col(\"A.Number_of_Casualties\"), col(\"A.Date\"), col(\"A.Day_of_Week\"),col(\"A.Time\"), col(\"A.1st_Road_Class\"), col(\"A.Road_Type\"), col(\"A.Speed_limit\"), col(\"A.Junction_Detail\"), col(\"A.Junction_Control\"), col(\"A.Light_Conditions\"), col(\"A.Weather_Conditions\"), col(\"A.Road_Surface_Conditions\"), col(\"A.Special_Conditions_at_Site\"), col(\"A.Urban_or_Rural_Area\"), col(\"A.Did_Police_Officer_Attend_Scene_of_Accident\"), col(\"A.LSOA_of_Accident_Location\"), col(\"B.Casualty_Class\"), col(\"B.Sex_of_Casualty\"), col(\"B.Age_of_Casualty\"), col(\"B.Casualty_Severity\"), col(\"B.Pedestrian_Location\"), col(\"B.Car_Passenger\"), col(\"B.Casualty_Type\")).toDF(\"Accident_Index\", \"Longitude\",\"Latitude\",\"Police_Force\", \"Accident_Severity\",\"Number_of_Vehicles\", \"Number_of_Casualties\", \"Date\", \"Day_of_Week\",\"Time\",\"1st_Road_Class\", \"Road_Type\", \"Speed_limit\",\"Junction_Detail\", \"Junction_Control\",\"Light_Conditions\", \"Weather_Conditions\",\"Road_Surface_Conditions\",\"Special_Conditions_at_Site\",\"Urban_or_Rural_Area\", \"Did_Police_Officer_Attend_Scene_of_Accident\", \"LSOA_of_Accident_Location\",\"Casualty_Class\",\"Sex_of_Casualty\",\"Age_of_Casualty\",\"Casualty_Severity\",\"Pedestrian_Location\",\"Car_Passenger\",\"Casualty_Type\")"
   ]
  },
  {
   "cell_type": "markdown",
   "id": "f3a5db06",
   "metadata": {},
   "source": [
    "#### Leeftijd categoriseren en nieuwe kolommen toevoegen\n",
    "\n",
    "Omdat de leeftijd werd meegegeven, kunnen wij later tijdens het visualiseren van onze data heel interessante grafieken plotten op basis van de leeftijd. Wij moeten natuurlijk eerst de leeftijden categoriseren. De leeftijdsgroepen die wij hebben gekozen zijn [16-19], [20-24], [25-29], [30-34], [35-39], [40-49], [50-59], [60-69] en [+70] omdat de datasets van https://www.gov.uk/government/statistical-data-sets/reported-drinking-and-driving-ras51 ook deze leeftijdsgroepen gebruiken.\n",
    "\n",
    "Verder zullen ook kolommen 'Maand' en 'Jaar' worden toegevoegd aan onze dataframe zodat wij hiermee bijvoorbeeld tijdens het visualiseren van de data kunnen filteren op tijd."
   ]
  },
  {
   "cell_type": "code",
   "execution_count": null,
   "id": "bc6f1e1c",
   "metadata": {},
   "outputs": [],
   "source": [
    "joined = joined.withColumn(\"Age_of_Casualty\", col(\"Age_of_Casualty\").cast(\"int\"))\n",
    "def sort_age(age):\n",
    "    age = int(age)\n",
    "    if 16 <= age < 20:\n",
    "        return \"1\"\n",
    "    elif 20 <= age < 25:\n",
    "        return \"2\"\n",
    "    elif 25<=age <30:\n",
    "        return \"3\"\n",
    "    elif 30<= age <35:\n",
    "        return \"4\"\n",
    "    elif 35<= age <40:\n",
    "        return \"5\"\n",
    "    elif 40<= age <50:\n",
    "        return \"6\"\n",
    "    elif 50 <= age <60 :\n",
    "        return \"7\"\n",
    "    elif 60 <= age <70:\n",
    "        return \"8\"\n",
    "    elif age <= 70:\n",
    "        return \"9\"\n",
    "    else:\n",
    "        return \"10\"\n",
    "\n",
    "def get_jaar(datum):\n",
    "    return(datum[-4:]) \n",
    "def get_maand(datum):\n",
    "    return(datum[3:5])\n",
    "\n",
    "joined = joined.withColumn(\"Age_of_Casualty\", col(\"Age_of_Casualty\").cast(\"int\"))\n",
    "joined = joined.withColumn(\"Date\", col(\"Date\").cast(\"String\"))\n",
    "joined = joined.withColumnRenamed(\"1st_Road_Class\", \"First_Road_Class\")\n",
    "joined2 = joined.rdd.map(lambda x: (x.Accident_Index, x.Longitude, \n",
    "                                    x.Latitude, x.Police_Force, x.Accident_Severity, x.Number_of_Vehicles, \n",
    "                                    x.Number_of_Casualties, x.Date, x.Day_of_Week, x.Time, x.First_Road_Class, \n",
    "                                    x.Road_Type, x.Speed_limit, x.Junction_Detail, x.Junction_Control, x.Light_Conditions, \n",
    "                                    x.Weather_Conditions,\n",
    "                                    x.Road_Surface_Conditions, x.Special_Conditions_at_Site,\n",
    "                                    x.Urban_or_Rural_Area, x.Did_Police_Officer_Attend_Scene_of_Accident, x.LSOA_of_Accident_Location, x.Casualty_Class, x.Sex_of_Casualty, x.Age_of_Casualty, x.Casualty_Severity, x.Pedestrian_Location, x.Car_Passenger, x.Casualty_Type, sort_age(x.Age_of_Casualty), get_jaar(x.Date), get_maand(x.Date)))\n",
    "\n",
    "joined2 = joined2.toDF([\"Accident_Index\", \"Longitude\" , \"Latitude\" , \"Police_Force\" , \"Accident_Severity\" ,\n",
    "       \"Number_of_Vehicles\" , \"Number_of_Casualties\" , \"Date\" , \"Day_of_Week\" , \"Time\" , \"1st_Road_Class\" , \"Road_Type\" , \"Speed_limit\" , \"Junction_Detail\" , \"Junction_Control\" , \"Light_Conditions\" , \"Weather_Conditions\" , \"Road_Surface_Conditions\" , \"Special_Conditions_at_Site\" , \"Urban_or_Rural_Area\" ,\n",
    "       \"Did_Police_Officer_Attend_Scene_of_Accident\" , \"LSOA_of_Accident_Location\" , \"Casualty_Class\" , \"Sex_of_Casualty\" , \n",
    "       \"Age_of_Casualty\" , \"Casualty_Severity\" , \"Pedestrian_Location\" , \"Car_Passenger\" , \"Casualty_Type\" , \"Age_Cat\", \"Jaar\", \"Maand\"])"
   ]
  },
  {
   "cell_type": "code",
   "execution_count": null,
   "id": "a38a4276",
   "metadata": {},
   "outputs": [],
   "source": [
    "joined2.groupby(\"Casualty_Class\").count().show()"
   ]
  },
  {
   "cell_type": "markdown",
   "id": "e7768991",
   "metadata": {},
   "source": [
    "#### Casualty_Class\n",
    "\n",
    "De kolom \"Casualty_Class\" kan waarde \"1\", \"2\" of \"3\" aannemen. Deze waarden geven aan wat de rol, van de persoon in kwestie, was tijdens het accident. 1 = \"Driver or rider\", 2 = \"Passenger\", 3 = \"Pedestrian\". Passagiers kunnen heel moeilijk de oorzaak zijn van een accident en daarom verwijderen wij alle passagiers uit onze dataframe. Dit zal later tijdens het visualiseren van onze data ook voor een minder lange run time zorgen."
   ]
  },
  {
   "cell_type": "code",
   "execution_count": null,
   "id": "3d46ebcc",
   "metadata": {},
   "outputs": [],
   "source": [
    "joined2 = joined2.where(col(\"Casualty_Class\") != 2)"
   ]
  },
  {
   "cell_type": "code",
   "execution_count": null,
   "id": "897d810a",
   "metadata": {},
   "outputs": [],
   "source": [
    "joined2.groupby(\"Age_of_Casualty\").count().show(5)"
   ]
  },
  {
   "cell_type": "markdown",
   "id": "4c248c28",
   "metadata": {},
   "source": [
    "#### Leeftijd\n",
    "\n",
    "Aangezien wij opzoek zijn naar accidenten die werden veroorzaakt door mensen onder invloed van alcohol, lijkt het ons logisch dat wij de records van kinderen onder de 16 uit onze dataframe halen. De datesets die wij hebben gevonden op https://www.gov.uk/government/statistical-data-sets/reported-drinking-and-driving-ras51 , gaan ook enkel over mensen die ouder zijn dan 16. Dus een extra reden om kinderen uit onze dataframe te halen."
   ]
  },
  {
   "cell_type": "code",
   "execution_count": null,
   "id": "f3ff6aa6",
   "metadata": {},
   "outputs": [],
   "source": [
    "joined2 = joined2.where(col(\"Age_of_Casualty\") >= 16)"
   ]
  },
  {
   "cell_type": "code",
   "execution_count": null,
   "id": "d64bd724",
   "metadata": {},
   "outputs": [],
   "source": [
    "joined2.groupby(\"Casualty_Type\").count().show(20)"
   ]
  },
  {
   "cell_type": "markdown",
   "id": "9cb46fd3",
   "metadata": {},
   "source": [
    "#### Causualty_Type\n",
    "\n",
    "De datasets die wij hebben gevonden op https://www.gov.uk/government/statistical-data-sets/reported-drinking-and-driving-ras51 gaan elke over voetgangers, motorfietsen en autos. In onze dataframe zijn er ook andere voertuigen aanwezig zoals 10-tonners, paarden, trammen en nog veel andere vervoersmiddelen die niet in onze dataframe horen. Deze halen wij er dus uit."
   ]
  },
  {
   "cell_type": "code",
   "execution_count": null,
   "id": "8342852e",
   "metadata": {},
   "outputs": [],
   "source": [
    "joined2 = joined2.where(col(\"Casualty_Type\") != 8)\n",
    "joined2 = joined2.where(col(\"Casualty_Type\") != 10)\n",
    "joined2 = joined2.where(col(\"Casualty_Type\") != 11)\n",
    "joined2 = joined2.where(col(\"Casualty_Type\") != 16)\n",
    "joined2 = joined2.where(col(\"Casualty_Type\") != 17)\n",
    "joined2 = joined2.where(col(\"Casualty_Type\") != 18)\n",
    "joined2 = joined2.where(col(\"Casualty_Type\") != 19)\n",
    "joined2 = joined2.where(col(\"Casualty_Type\") != 20)\n",
    "joined2 = joined2.where(col(\"Casualty_Type\") != 21)\n",
    "joined2 = joined2.where(col(\"Casualty_Type\") != 23)\n",
    "joined2 = joined2.where(col(\"Casualty_Type\") != 90)\n",
    "joined2 = joined2.where(col(\"Casualty_Type\") != 97)\n",
    "joined2 = joined2.where(col(\"Casualty_Type\") != 98)"
   ]
  },
  {
   "cell_type": "markdown",
   "id": "efbae293",
   "metadata": {},
   "source": [
    "# Data visualiseren\n",
    "\n",
    "In dit deel van het onderzoek zal de data worden gevisualiseerd door betekenisvolle diagrammen en interactieve maps."
   ]
  },
  {
   "cell_type": "code",
   "execution_count": null,
   "id": "ec46fae2",
   "metadata": {},
   "outputs": [],
   "source": [
    "#Creating Table\n",
    "pubsData_df.registerTempTable('pubsTable')\n",
    "accidentData_df.registerTempTable('accidentTable')\n",
    "casualtiesData_df.registerTempTable('casualtiesTable')\n",
    "spark = SparkSession.builder.getOrCreate()\n",
    "sqlContext = SQLContext(spark)#Running Query\n",
    "#Running Query\n",
    "df1 = sqlContext.sql(\"SELECT COUNT(local_authority) as count,local_authority from pubsTable group by local_authority order by count\")\n",
    "df2 = sqlContext.sql(\"SELECT COUNT(Number_of_Casualties) as count_casulties,SPEED_LIMIT FROM accidentTable group by SPEED_LIMIT order by SPEED_LIMIT\")\n",
    "## type sql dataframe .collect to get list"
   ]
  },
  {
   "cell_type": "code",
   "execution_count": null,
   "id": "3760e3aa",
   "metadata": {},
   "outputs": [],
   "source": [
    "list_casulties_speed=[]\n",
    "list_speed_casulties=[]\n",
    "for x in df2.collect():\n",
    "    list_casulties_speed.append(x[0])\n",
    "    list_speed_casulties.append(int(x[1]))\n",
    "print(list_casulties_speed)\n",
    "plt.bar(list_speed_casulties,list_casulties_speed)\n",
    "plt.title(\"Aantal gevallen per snelheids drempel\")\n",
    "plt.xlabel('Snelheid')\n",
    "plt.ylabel('Aantal Slachtoffers')\n",
    "plt.show()"
   ]
  },
  {
   "cell_type": "markdown",
   "id": "73523d69",
   "metadata": {},
   "source": [
    "Uit het bovenstaande diagram kunnen wij concluderen dat de meeste accindenten gebeuren op wegen waar de maximale toegelaten snelheid 30 mph is, dus vooral binnen de bebouwde kom."
   ]
  },
  {
   "cell_type": "code",
   "execution_count": null,
   "id": "edcf5b72",
   "metadata": {},
   "outputs": [],
   "source": [
    "local_authority=[]\n",
    "for row in df1.orderBy(\"local_authority\").collect():\n",
    "    local_authority.append(row.local_authority)\n"
   ]
  },
  {
   "cell_type": "code",
   "execution_count": null,
   "id": "7e6aaabc",
   "metadata": {
    "scrolled": false
   },
   "outputs": [],
   "source": [
    "choose_local_authority = widgets.Dropdown(\n",
    "    options=local_authority,\n",
    "    value='Isles of Scilly',\n",
    "    description='Authority:',\n",
    ")\n",
    "\n",
    "def load_map_points(local_authority):\n",
    "    df1 = sqlContext.sql(\"SELECT * from pubsTable where local_authority='\"+local_authority+\"'\")\n",
    "    print(type(df1))\n",
    "    maxLat=str(df1.agg({\"latitude\": \"max\"}).collect()[0][0])\n",
    "    minLat=str(df1.agg({\"latitude\": \"min\"}).collect()[0][0])\n",
    "    maxLot=str(df1.agg({\"longitude\": \"max\"}).collect()[0][0])\n",
    "    minLot=str(df1.agg({\"longitude\": \"min\"}).collect()[0][0])\n",
    "    print(maxLat[0:4],minLat)\n",
    "    #LatLong = sqlContext.sql(\"Select CAST(SUBSTRING(Latitude,0,4) AS float) as fLatitude, CAST(CASE when SUBSTRING(Longitude,0,1)='-' then SUBSTRING(Longitude,0,5) else SUBSTRING(Longitude,0,4)end AS float) as fLongitude FROM accidentTable\")\n",
    "    LatLong = sqlContext.sql(\"Select CAST(Latitude AS float) as fLatitude, CAST(Longitude AS float) as fLongitude FROM accidentTable where (Latitude like '%\"+minLat[0:3]+\"%' or Latitude like '%\"+maxLat[0:3]+\"%') and (Longitude like '%\"+minLot[0:3]+\"%' or Longitude like '%\"+maxLot[0:3]+\"%')\")\n",
    "    LatLong.show()\n",
    "    df1=df1.collect()\n",
    "    local_authority_coordinates = (df1[0].latitude,df1[0].longitude)\n",
    "    map = folium.Map(location=local_authority_coordinates, zoom_start=11.5)\n",
    "    HeatMap(LatLong.collect()).add_to(map)\n",
    "\n",
    "    ## testing \n",
    "    counter=0\n",
    "    for row in df1:\n",
    "        folium.Marker(location = [row.latitude,row.longitude],popup=row.name).add_to(map)\n",
    "    display(map)\n",
    "def on_change(change):\n",
    "    load_map_points(change)\n",
    "interact(on_change, change=choose_local_authority);"
   ]
  },
  {
   "cell_type": "markdown",
   "id": "7019a972",
   "metadata": {},
   "source": [
    "Hierboven zien we een map met alle café's van een geslecteerde lokale overheid (vergelijkbaar met gemeente van België). Met alle accidenten die in de buurt zijn gebeurt van 2005-2014. Je kan bij vele gemeentes zien dat de ongevallen vaaker gebeuren in de buurt van café's maar dat is niet overal. "
   ]
  },
  {
   "cell_type": "code",
   "execution_count": null,
   "id": "e1e3b1f0",
   "metadata": {},
   "outputs": [],
   "source": [
    "joined2 = joined2.withColumn(\"Accident_Severity\", col(\"Accident_Severity\").cast(\"int\"))\n",
    "joined2 = joined2.withColumn(\"Age_Cat\", col(\"Age_Cat\").cast(\"int\"))\n",
    "cat2 = joined2.groupby(\"Age_Cat\", \"Accident_Severity\").count().toDF(\"Age_Cat\", \"Accident_Severity\", \"count\").sort(\"Age_Cat\",\"Accident_Severity\")\n",
    "X = [\"16-19\", \"20-24\", \"25-29\", \"30-34\", \"35-39\", \"40-49\", \"50-59\", \"60-69\", \"+70\", \"Other\"]\n",
    "light = []\n",
    "semi = []\n",
    "fatal = []\n",
    "for x in cat2.collect():\n",
    "    if x[1] == 1:\n",
    "        light.append(x[2])\n",
    "    elif x[1] == 2:\n",
    "        semi.append(x[2])\n",
    "    else:\n",
    "        fatal.append(x[2])\n",
    "      \n",
    "\n",
    "\n",
    "X_axis = np.arange(len(X))\n",
    "plt.bar(X_axis-0.2, light,0.2, label = 'Light')\n",
    "plt.bar(X_axis, semi,0.2, label = 'Semi')\n",
    "plt.bar(X_axis+0.2, fatal,0.2, label = 'Fatal')\n",
    "   \n",
    "plt.xticks(X_axis, X)\n",
    "plt.xlabel(\"Age groups\")\n",
    "plt.ylabel(\"Number of Cases\")\n",
    "plt.title(\"Number of cases in each age group\")\n",
    "plt.legend()\n",
    "plt.show()"
   ]
  },
  {
   "cell_type": "markdown",
   "id": "2ecccd55",
   "metadata": {},
   "source": [
    "Het bovenstaande diagram geeft het aantal accidenten voor per leeftijdscategorie en per ernstheid van het accident."
   ]
  },
  {
   "cell_type": "markdown",
   "id": "3db12db6",
   "metadata": {},
   "source": [
    "###### Kijken naar de accidenten doorheen de tijd"
   ]
  },
  {
   "cell_type": "code",
   "execution_count": null,
   "id": "52d3b1d5",
   "metadata": {},
   "outputs": [],
   "source": [
    "ListOfYears=sqlContext.sql(\"SELECT Day_of_Week from accidentTable group by Day_of_Week\").collect()\n",
    "Yearslider=widgets.IntSlider(\n",
    "    min=min(ListOfYears)[0],\n",
    "    max=max(ListOfYears) [0],\n",
    "    description='Day:',\n",
    ")\n",
    "intresantColoms=(\"Police_Force\",\"Accident_Severity\",\"Number_of_Vehicles\",\"Number_of_Casualties\")\n",
    "def f(x):\n",
    "    plt.rcParams['figure.figsize'] = [20, 10]\n",
    "    fig, axs = plt.subplots(math.ceil((len(intresantColoms)/2)),2)\n",
    "    fig.suptitle('Het aantal voertuigen, gewonden, ergte en politie aanwezigen per soort voor Dag:'+str(x))\n",
    "    for indx,onderwerp in enumerate(intresantColoms):\n",
    "        ListOfDays=sqlContext.sql(\"SELECT \"+onderwerp+\",count(\"+onderwerp+\") as aantal from accidentTable where Day_of_Week=\"+str(x)+\" group by \"+onderwerp+\" order by \"+onderwerp).collect()\n",
    "        NumberList=[]\n",
    "        BarList=[]\n",
    "        for row in ListOfDays:\n",
    "            NumberList.append((row[0]))\n",
    "            BarList.append(row[1])\n",
    "        axs[math.ceil(indx/2)-1,indx%2].bar(NumberList,BarList)\n",
    "        axs[math.ceil(indx/2)-1,indx%2].set_title(onderwerp)\n",
    "    return x\n",
    "interact(f, x=Yearslider);"
   ]
  },
  {
   "cell_type": "markdown",
   "id": "6df4c5bb",
   "metadata": {},
   "source": [
    "Hierboven staan enkele diagrammen over de accidenten. Uit het eerste diagram kunnen wij conluderen dat de meeste records een botsing is van twee autos. Het tweede diagram vertelt ons dat de meeste accidenten een waarde 3(fatal) als severity hebben. Het derde diagram vertelt ons meer over welke politie het meest aanwezig waren bij een accident. Hier zien dat waarde 1 ver bovenuit steekt. Waarde 1 is de \"Metropolitan Police\" of met andere woorden the police force of London. Hieruit kunnen wij dus ook concluderen dat de meeste mensen een auto ongeluk hebben gehad in London. Al deze worden gefilterd op de dagen van de week."
   ]
  },
  {
   "cell_type": "markdown",
   "id": "fd599434",
   "metadata": {},
   "source": [
    "###### Ongevallen per leeftijds categorie van de verongelukte op omgevings factoren"
   ]
  },
  {
   "cell_type": "code",
   "execution_count": null,
   "id": "99250a66",
   "metadata": {},
   "outputs": [],
   "source": [
    "joinAccidentsCasulties = sqlContext.sql('SELECT * from accidentTable right join casualtiesTable on casualtiesTable.Accident_Index==accidentTable.Accident_Index')\n",
    "ListAccidentsCasulties=joinAccidentsCasulties.select(\"Age_of_Casualty\").distinct().sort(\"Age_of_Casualty\").collect()\n",
    "\n",
    "Ageslider=widgets.IntSlider(\n",
    "    min=min(ListAccidentsCasulties)[0],\n",
    "    max=max(ListAccidentsCasulties)[0],\n",
    "    description='Age:',\n",
    ")\n",
    "intresantColoms=(\"Light_Conditions\",\"Weather_Conditions\",\"Road_Type\",\"Time\",\"Day_of_Week\")\n",
    "\n",
    "def createArray(dictionary):\n",
    "    values=[]\n",
    "    for row in dictionary:\n",
    "        if not(row[0]==None):\n",
    "            values.append(row[0])\n",
    "        else:\n",
    "            values.append(0)\n",
    "    return values\n",
    "\n",
    "def f(x):\n",
    "    plt.rcParams['figure.figsize'] = [20, 10]\n",
    "    fig, axs = plt.subplots(3,2)\n",
    "    colomForGraph=joinAccidentsCasulties.select(intresantColoms[4]).filter(\"Age_of_Casualty=\"+str(x)).sort(intresantColoms[4]).collect()\n",
    "    axs[0,0].hist(createArray(colomForGraph),density=False, bins=7)\n",
    "    axs[0,0].set_title(\"Hoeveel ongelukken per dag\")\n",
    "    colomForGraph=joinAccidentsCasulties.select(intresantColoms[0]).filter(\"Age_of_Casualty=\"+str(x)).sort(intresantColoms[0]).collect()\n",
    "    axs[0,1].hist(createArray(colomForGraph))\n",
    "    axs[0,1].set_title(\"Hoeveel ongelukken per licht type\")\n",
    "    colomForGraph=joinAccidentsCasulties.select(intresantColoms[1]).filter(\"Age_of_Casualty=\"+str(x)).sort(intresantColoms[1]).collect()\n",
    "    axs[1,0].hist(createArray(colomForGraph))\n",
    "    axs[1,0].set_title(\"Hoeveel ongelukken per weer type\")\n",
    "    colomForGraph=joinAccidentsCasulties.select(intresantColoms[2]).filter(\"Age_of_Casualty=\"+str(x)).sort(intresantColoms[2]).collect()\n",
    "    axs[1,1].hist(createArray(colomForGraph))\n",
    "    axs[1,1].set_title(\"Hoeveel ongelukken per road type\")\n",
    "    colomForGraph=joinAccidentsCasulties.select(intresantColoms[3]).filter(\"Age_of_Casualty=\"+str(x)).sort(intresantColoms[2]).collect()\n",
    "    axs[2,1].hist(createArray(colomForGraph), bins=24)\n",
    "    axs[2,1].set_title(\"Hoeveel ongelukken per dag Uur\")\n",
    "    fig.delaxes(axs[2,2])\n",
    "    return x\n",
    "interact(f, x=Ageslider);"
   ]
  },
  {
   "cell_type": "markdown",
   "id": "e10a96a4",
   "metadata": {},
   "source": [
    "Hierboven staan er interactieve diagrammen die worden gefilterd op leeftijd. Zo kunnen wij zien op welke dag er de meeste accidenten gebeuren, bij welke weeromstandigheden, aantal ongelukken per uur en aantal ongelukken per road type."
   ]
  },
  {
   "cell_type": "code",
   "execution_count": null,
   "id": "d4a3cc62",
   "metadata": {},
   "outputs": [],
   "source": [
    "sev = [\"1\", \"2\", \"3\"]\n",
    "jaar = [\"2005\", \"2006\", \"2007\", \"2008\", \"2009\", \"2010\", \"2011\", \"2012\", \"2013\", \"2014\"]\n",
    "maand = [\"01\", \"02\", \"03\", \"04\", \"05\", \"06\", \"07\", \"08\", \"09\", \"10\", \"11\", \"12\"]\n",
    "choose_age_cat = widgets.Dropdown(options = X, value=\"16-19\", description=\"Age Group:\")\n",
    "choose_severity = widgets.Dropdown(options = sev, value=\"1\", description=\"Severity:\")\n",
    "choose_jaar = widgets.Dropdown(options = jaar, value=\"2005\", description=\"Year:\")\n",
    "choose_maand = widgets.Dropdown(options = maand, value=\"01\", description=\"Month:\")\n",
    "joined2 = joined2.withColumn(\"Age_Cat\", col(\"Age_Cat\").cast(\"String\"))\n",
    "def load_map_acc(age_cat, severity, jaar, maand):\n",
    "    dfa = sqlContext.sql(\"SELECT * FROM joined2 WHERE Age_Cat=\"+age_cat+\" AND Casualty_Severity=\"+severity+\" AND Jaar ='\"+jaar+\"' AND Maand='\"+maand+\"'\")\n",
    "    coo = (dfa.collect()[0].Latitude, dfa.collect()[0].Longitude)\n",
    "    mapa = folium.Map(location = coo, zoom_start=11.5)\n",
    "    for row in dfa.collect():\n",
    "        folium.Marker(location= [row.Latitude, row.Longitude], popup = row.Accident_Index).add_to(mapa)\n",
    "    display(mapa)\n",
    "joined2.createOrReplaceTempView(\"joined2\")\n",
    "load_map_acc(\"1\",\"2\", \"2006\",\"01\")"
   ]
  },
  {
   "cell_type": "markdown",
   "id": "36645485",
   "metadata": {},
   "source": [
    "nog bezig "
   ]
  },
  {
   "cell_type": "markdown",
   "id": "d3d1cbfc",
   "metadata": {},
   "source": [
    "##### Gemiddelde afstand dichstbezijne bar en ongeval\n",
    "Gebruik maken van Haversine formula formule"
   ]
  },
  {
   "cell_type": "code",
   "execution_count": null,
   "id": "542acde7",
   "metadata": {},
   "outputs": [],
   "source": [
    "import pandas\n",
    "df = pandas.read_excel('Drink_and_drive_data/ras51019.xlsx', sheet_name='2019')\n",
    "Region_Boundaries = spark.read.format('json').load('GeoJson/us-states.json')\n",
    "[\"Fatal\",\"Serious\",\"Serious\",\"Slight\"]\n",
    "sparkDF=spark.createDataFrame(df[7:19]) \n",
    "\n",
    "sparkDF = sparkDF.withColumnRenamed(\"Unnamed: 1\",\"Fatal Accidents\")\\\n",
    "    .withColumnRenamed(\"Unnamed: 2\",\"Serious (unadjusted) Accidents\")\\\n",
    "    .withColumnRenamed(\"Unnamed: 3\",\"Serious (adjusted) Accidents\")\\\n",
    "    .withColumnRenamed(\"Unnamed: 4\",\"Slight (unadjusted) Accidents\")\\\n",
    "    .withColumnRenamed(\"Unnamed: 5\",\"Slight (adjusted) Accidents\")\\\n",
    "    .withColumnRenamed(\"Unnamed: 6\",\"Total Accidents\")\\\n",
    "    .withColumnRenamed(\"Unnamed: 8\",\"Killed Casualties\")\\\n",
    "    .withColumnRenamed(\"Unnamed: 9\",\"Seriously injured (unadjusted) Casualties\")\\\n",
    "    .withColumnRenamed(\"Unnamed: 10\",\"Seriously injured  (adjusted) Casualties\")\\\n",
    "    .withColumnRenamed(\"Unnamed: 11\",\"Killed or seriously injured (unadjusted) Casualties\")\\\n",
    "    .withColumnRenamed(\"Unnamed: 12\",\"Killed or seriously injured (adjusted) Casualties\")\\\n",
    "    .withColumnRenamed(\"Unnamed: 13\",\"Slightly injured (unadjusted) Casualties\")\\\n",
    "    .withColumnRenamed(\"Unnamed: 14\",\"Slightly injured (adjusted) Casualties\")\\\n",
    "    .withColumnRenamed(\"Unnamed: 15\",\"Total Casualties\")\n",
    "sparkDF = sparkDF.drop(\"Unnamed: 7\")\n",
    "Region_Boundaries.show(5,vertical=True)\n"
   ]
  },
  {
   "cell_type": "code",
   "execution_count": null,
   "id": "d5d45d82",
   "metadata": {},
   "outputs": [],
   "source": [
    "#Regions\n",
    "file = spark.sparkContext.wholeTextFiles(\"GeoJson/Region_Boundaries.geojson.json\")\n",
    "file=file.collect()[0][1]\n",
    "\n",
    "#Pubs\n",
    "localPubsCount=pubsData_df.groupby(\"local_authority\").count().collect()\n",
    "#Local govs\n",
    "Local_Authority_Districts = spark.sparkContext.wholeTextFiles(\"GeoJson/Local_Authority_Districts_(May_2021)_UK_BFE_V3.geojson\")\n"
   ]
  },
  {
   "cell_type": "code",
   "execution_count": null,
   "id": "89bf7ab9",
   "metadata": {},
   "outputs": [],
   "source": [
    "map_hooray = folium.Map(location=[51.5074, 0.1278],\n",
    "                        zoom_start = 9)\n",
    "\n",
    "#Adding layers\n",
    "folium.Choropleth(\n",
    "    geo_data=file,\n",
    "    name=\"Total casulties by alchol\",\n",
    "    data=sparkDF.select(\"Department for Transport statistics\",\"Total Casualties\").collect(),\n",
    "    columns=[\"Department for Transport statistics\",\"Total Casualties\"],\n",
    "    key_on=\"feature.properties.name\",\n",
    "    fill_color=\"BuPu\",\n",
    "    fill_opacity=0.7,\n",
    "    line_opacity=0.2,\n",
    "    legend_name=\"Accidents %\",\n",
    ").add_to(map_hooray)\n",
    "folium.Choropleth(\n",
    "    geo_data=Local_Authority_Districts.collect()[0][1],\n",
    "    name=\"Total bars in local authority\",\n",
    "    data=localPubsCount,\n",
    "    columns=[\"local_authority\",\"count\"],\n",
    "    key_on=\"feature.properties.LAD21NM\",\n",
    "    fill_color=\"YlGn\",\n",
    "    fill_opacity=0.5,\n",
    "    line_opacity=0.2,\n",
    "    legend_name=\"Bars #\",\n",
    ").add_to(map_hooray)\n",
    "folium.LayerControl().add_to(map_hooray)\n",
    "display(map_hooray)"
   ]
  },
  {
   "cell_type": "code",
   "execution_count": null,
   "id": "aeee05d0",
   "metadata": {},
   "outputs": [],
   "source": [
    "pubsData_df.show(5,vertical=True)"
   ]
  },
  {
   "cell_type": "code",
   "execution_count": null,
   "id": "1f19c362",
   "metadata": {},
   "outputs": [],
   "source": [
    "rdd = spark.read.text(\"GeoJson/us-states.json\")\n",
    "topo_local_authority = open(\"GeoJson/topo_local_authority.json\")\n",
    "line = file.read()"
   ]
  },
  {
   "cell_type": "code",
   "execution_count": null,
   "id": "b2b1a3ca",
   "metadata": {},
   "outputs": [],
   "source": [
    "print(\"help\")"
   ]
  },
  {
   "cell_type": "code",
   "execution_count": null,
   "id": "f4cbe7e9",
   "metadata": {},
   "outputs": [],
   "source": []
  }
 ],
 "metadata": {
  "kernelspec": {
   "display_name": "Python 3",
   "language": "python",
   "name": "python3"
  },
  "language_info": {
   "codemirror_mode": {
    "name": "ipython",
    "version": 3
   },
   "file_extension": ".py",
   "mimetype": "text/x-python",
   "name": "python",
   "nbconvert_exporter": "python",
   "pygments_lexer": "ipython3",
   "version": "3.8.8"
  }
 },
 "nbformat": 4,
 "nbformat_minor": 5
}
