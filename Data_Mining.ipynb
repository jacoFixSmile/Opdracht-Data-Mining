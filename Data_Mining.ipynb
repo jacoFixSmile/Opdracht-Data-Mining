{
 "cells": [
  {
   "cell_type": "code",
   "execution_count": 1,
   "metadata": {},
   "outputs": [
    {
     "name": "stdout",
     "output_type": "stream",
     "text": [
      "Requirement already satisfied: folium in c:\\users\\atife\\anaconda3\\lib\\site-packages (0.12.1)\n",
      "Requirement already satisfied: branca>=0.3.0 in c:\\users\\atife\\anaconda3\\lib\\site-packages (from folium) (0.4.2)\n",
      "Requirement already satisfied: jinja2>=2.9 in c:\\users\\atife\\anaconda3\\lib\\site-packages (from folium) (2.11.3)\n",
      "Requirement already satisfied: requests in c:\\users\\atife\\anaconda3\\lib\\site-packages (from folium) (2.25.1)\n",
      "Requirement already satisfied: numpy in c:\\users\\atife\\anaconda3\\lib\\site-packages (from folium) (1.20.1)\n",
      "Requirement already satisfied: MarkupSafe>=0.23 in c:\\users\\atife\\anaconda3\\lib\\site-packages (from jinja2>=2.9->folium) (1.1.1)\n",
      "Requirement already satisfied: urllib3<1.27,>=1.21.1 in c:\\users\\atife\\anaconda3\\lib\\site-packages (from requests->folium) (1.26.4)\n",
      "Requirement already satisfied: idna<3,>=2.5 in c:\\users\\atife\\anaconda3\\lib\\site-packages (from requests->folium) (2.10)\n",
      "Requirement already satisfied: chardet<5,>=3.0.2 in c:\\users\\atife\\anaconda3\\lib\\site-packages (from requests->folium) (4.0.0)\n",
      "Requirement already satisfied: certifi>=2017.4.17 in c:\\users\\atife\\anaconda3\\lib\\site-packages (from requests->folium) (2020.12.5)\n"
     ]
    }
   ],
   "source": [
    "import sys\n",
    "import findspark\n",
    "import pyspark\n",
    "!pip install folium\n",
    "import folium\n",
    "findspark.init(\"C:\\\\spark-3.1.2-bin-hadoop3.2\\\\spark-3.1.2-bin-hadoop3.2\")"
   ]
  },
  {
   "cell_type": "code",
   "execution_count": 17,
   "metadata": {},
   "outputs": [],
   "source": [
    "from pyspark.sql import SparkSession\n",
    "from pyspark.sql import SQLContext\n",
    "from pyspark.sql.types import *\n",
    "from pyspark.sql.functions import avg\n",
    "from ipywidgets import widgets\n",
    "from pyspark.sql.functions import col\n",
    "import seaborn as sns\n",
    "import matplotlib.pyplot as plt\n",
    "spark = SparkSession.builder.getOrCreate()"
   ]
  },
  {
   "cell_type": "code",
   "execution_count": 3,
   "metadata": {},
   "outputs": [],
   "source": [
    "#Creating schema's\n",
    "schema_pubs = StructType([\n",
    "    StructField(\"Food Standard Agency's ID\", StringType(), nullable=True),\n",
    "    StructField(\"name\", StringType(), nullable=True),\n",
    "    StructField(\"address\", StringType(), nullable=True),\n",
    "    StructField(\"postcode\", StringType(), nullable=True),\n",
    "    StructField(\"easting\", DoubleType(), nullable=True),\n",
    "    StructField(\"northing\", DoubleType(), nullable=True),\n",
    "    StructField(\"latitude\", DoubleType(), nullable=False),\n",
    "    StructField(\"longitude\", DoubleType(), nullable=False),\n",
    "    StructField(\"local_authority\", StringType(), nullable=True)\n",
    "\n",
    "])"
   ]
  },
  {
   "cell_type": "code",
   "execution_count": 5,
   "metadata": {
    "scrolled": true
   },
   "outputs": [],
   "source": [
    "# importing data \n",
    "accidentData_df = spark.read.format('csv').option('header',True).load('../../../Desktop/Data mining/Accidents0514.csv')\n",
    "pubsData_df = spark.read.format('csv').option('header',False).schema(schema_pubs).load('open_pubs.csv')\n",
    "### casualtiesData_df geeft meer info over het slachtoffer\n",
    "casualtiesData_df = spark.read.format('csv').option('header', True).load('../../../Desktop/Data mining/Casualties0514.csv')"
   ]
  },
  {
   "cell_type": "code",
   "execution_count": 6,
   "metadata": {},
   "outputs": [
    {
     "name": "stdout",
     "output_type": "stream",
     "text": [
      "146  rijen zijn verwijderd omdat ze lege waarden hadden.\n",
      "Kolommen Vehicle_Reference en Casualty_Reference zijn zeer nuttige gegevens maar die waarden komen precies niet overeen met die tabel op Kaggle dus heb ze weggelaten. Kan dat ik verkeerd ben maar heb niets gevonden.\n"
     ]
    }
   ],
   "source": [
    "### Filter de pub data set\n",
    "counterRowsBeforePubs=pubsData_df.count()\n",
    "pubsData_df=pubsData_df.dropna(subset=[\"latitude\",\"longitude\"])\n",
    "print(counterRowsBeforePubs-pubsData_df.count(),\" rijen zijn verwijderd omdat ze lege waarden hadden.\")\n",
    "### nutteloze kolommen zoals Pedestrian_Crossing,Special_Condition_at_site, Carriageway_Hazards,  want volgens Kaggle hebben bijna alle records dezelfde data dus veel gaat deze kolom ons niet opleveren alleen maar een langere run time. heb ook Location_Northing_OSGR, Location_Easting_OSGR, Local_Authority_(District), Local_Authority_(Highway)1st_Road_Class, 1st_Road_Number, 2nd_Road_Class, 2nd_Road_Number, Pedestrian_Crossing-Human_Control, Pedestrian_Crossing-Physical_Facilities\n",
    "accidentData_df = accidentData_df.drop(\"Pedestrian_Crossing\", \"Special_Condition_at_site\",\"Local_Authority_(Highway)\", \"Carriageway_Hazards\",\"Location_Northing_OSGR\", \"Location_Easting_OSGR\", \"Local_Authority_(District)\", \"Local_Authority_(Highway)1st_Road_Class\", \"1st_Road_Number\", \"2nd_Road_Class\", \"2nd_Road_Number\", \"Pedestrian_Crossing-Human_Control\", \"Pedestrian_Crossing-Physical_Facilities\")\n",
    "### In casualtiesData heb ik ook een paar kolommen verwijderd => Pedestian_Location, Pedestrian_Movement, Bus_or_Coach_, Vehicle_Reference, Casualty_Reference, Age_Band_of_Casualty, Pedestrian_Road_Maintenance_Worker, Casualty_Home_Area_Type\n",
    "casualtiesData_df = casualtiesData_df.drop(\"Pedestian_Location\", \"Pedestrian_Movement\", \"Bus_or_Coach_Passenger\", \"Vehicle_Reference\", \"Casualty_Reference\", \"Age_Band_of_Casualty\", \"Pedestrian_Road_Maintenance_Worker\",\"Casualty_Home_Area_Type\" )\n",
    "print(\"Kolommen Vehicle_Reference en Casualty_Reference zijn zeer nuttige gegevens maar die waarden komen precies niet overeen met die tabel op Kaggle dus heb ze weggelaten. Kan dat ik verkeerd ben maar heb niets gevonden.\")\n"
   ]
  },
  {
   "cell_type": "code",
   "execution_count": 7,
   "metadata": {},
   "outputs": [
    {
     "name": "stdout",
     "output_type": "stream",
     "text": [
      "120599  rijen zijn verwijderd omdat ze lege waarden hadden.\n",
      "0  rijen zijn verwijderd omdat ze lege waarden hadden.\n"
     ]
    }
   ],
   "source": [
    "### Filter de accident data set\n",
    "counterRowsBeforePubs=accidentData_df.count()\n",
    "accidentData_df=accidentData_df.na.drop()\n",
    "print(counterRowsBeforePubs-accidentData_df.count(),\" rijen zijn verwijderd omdat ze lege waarden hadden.\")\n",
    "\n",
    "### Filter de casaulties data\n",
    "counterRowsBeforeCasaul=casualtiesData_df.count()\n",
    "casualtiesData_df=casualtiesData_df.na.drop()\n",
    "print(counterRowsBeforeCasaul-casualtiesData_df.count(),\" rijen zijn verwijderd omdat ze lege waarden hadden.\")\n"
   ]
  },
  {
   "cell_type": "code",
   "execution_count": 8,
   "metadata": {},
   "outputs": [
    {
     "name": "stdout",
     "output_type": "stream",
     "text": [
      "-RECORD 0----------------------------------------------------\n",
      " Accident_Index                              | 200501BS00001 \n",
      " Longitude                                   | -0.191170     \n",
      " Latitude                                    | 51.489096     \n",
      " Police_Force                                | 1             \n",
      " Accident_Severity                           | 2             \n",
      " Number_of_Vehicles                          | 1             \n",
      " Number_of_Casualties                        | 1             \n",
      " Date                                        | 04/01/2005    \n",
      " Day_of_Week                                 | 3             \n",
      " Time                                        | 17:42         \n",
      " 1st_Road_Class                              | 3             \n",
      " Road_Type                                   | 6             \n",
      " Speed_limit                                 | 30            \n",
      " Junction_Detail                             | 0             \n",
      " Junction_Control                            | -1            \n",
      " Light_Conditions                            | 1             \n",
      " Weather_Conditions                          | 2             \n",
      " Road_Surface_Conditions                     | 2             \n",
      " Special_Conditions_at_Site                  | 0             \n",
      " Urban_or_Rural_Area                         | 1             \n",
      " Did_Police_Officer_Attend_Scene_of_Accident | 1             \n",
      " LSOA_of_Accident_Location                   | E01002849     \n",
      "-RECORD 1----------------------------------------------------\n",
      " Accident_Index                              | 200501BS00002 \n",
      " Longitude                                   | -0.211708     \n",
      " Latitude                                    | 51.520075     \n",
      " Police_Force                                | 1             \n",
      " Accident_Severity                           | 3             \n",
      " Number_of_Vehicles                          | 1             \n",
      " Number_of_Casualties                        | 1             \n",
      " Date                                        | 05/01/2005    \n",
      " Day_of_Week                                 | 4             \n",
      " Time                                        | 17:36         \n",
      " 1st_Road_Class                              | 4             \n",
      " Road_Type                                   | 3             \n",
      " Speed_limit                                 | 30            \n",
      " Junction_Detail                             | 6             \n",
      " Junction_Control                            | 2             \n",
      " Light_Conditions                            | 4             \n",
      " Weather_Conditions                          | 1             \n",
      " Road_Surface_Conditions                     | 1             \n",
      " Special_Conditions_at_Site                  | 0             \n",
      " Urban_or_Rural_Area                         | 1             \n",
      " Did_Police_Officer_Attend_Scene_of_Accident | 1             \n",
      " LSOA_of_Accident_Location                   | E01002909     \n",
      "-RECORD 2----------------------------------------------------\n",
      " Accident_Index                              | 200501BS00003 \n",
      " Longitude                                   | -0.206458     \n",
      " Latitude                                    | 51.525301     \n",
      " Police_Force                                | 1             \n",
      " Accident_Severity                           | 3             \n",
      " Number_of_Vehicles                          | 2             \n",
      " Number_of_Casualties                        | 1             \n",
      " Date                                        | 06/01/2005    \n",
      " Day_of_Week                                 | 5             \n",
      " Time                                        | 00:15         \n",
      " 1st_Road_Class                              | 5             \n",
      " Road_Type                                   | 6             \n",
      " Speed_limit                                 | 30            \n",
      " Junction_Detail                             | 0             \n",
      " Junction_Control                            | -1            \n",
      " Light_Conditions                            | 4             \n",
      " Weather_Conditions                          | 1             \n",
      " Road_Surface_Conditions                     | 1             \n",
      " Special_Conditions_at_Site                  | 0             \n",
      " Urban_or_Rural_Area                         | 1             \n",
      " Did_Police_Officer_Attend_Scene_of_Accident | 1             \n",
      " LSOA_of_Accident_Location                   | E01002857     \n",
      "-RECORD 3----------------------------------------------------\n",
      " Accident_Index                              | 200501BS00004 \n",
      " Longitude                                   | -0.173862     \n",
      " Latitude                                    | 51.482442     \n",
      " Police_Force                                | 1             \n",
      " Accident_Severity                           | 3             \n",
      " Number_of_Vehicles                          | 1             \n",
      " Number_of_Casualties                        | 1             \n",
      " Date                                        | 07/01/2005    \n",
      " Day_of_Week                                 | 6             \n",
      " Time                                        | 10:35         \n",
      " 1st_Road_Class                              | 3             \n",
      " Road_Type                                   | 6             \n",
      " Speed_limit                                 | 30            \n",
      " Junction_Detail                             | 0             \n",
      " Junction_Control                            | -1            \n",
      " Light_Conditions                            | 1             \n",
      " Weather_Conditions                          | 1             \n",
      " Road_Surface_Conditions                     | 1             \n",
      " Special_Conditions_at_Site                  | 0             \n",
      " Urban_or_Rural_Area                         | 1             \n",
      " Did_Police_Officer_Attend_Scene_of_Accident | 1             \n",
      " LSOA_of_Accident_Location                   | E01002840     \n",
      "-RECORD 4----------------------------------------------------\n",
      " Accident_Index                              | 200501BS00005 \n",
      " Longitude                                   | -0.156618     \n",
      " Latitude                                    | 51.495752     \n",
      " Police_Force                                | 1             \n",
      " Accident_Severity                           | 3             \n",
      " Number_of_Vehicles                          | 1             \n",
      " Number_of_Casualties                        | 1             \n",
      " Date                                        | 10/01/2005    \n",
      " Day_of_Week                                 | 2             \n",
      " Time                                        | 21:13         \n",
      " 1st_Road_Class                              | 6             \n",
      " Road_Type                                   | 6             \n",
      " Speed_limit                                 | 30            \n",
      " Junction_Detail                             | 0             \n",
      " Junction_Control                            | -1            \n",
      " Light_Conditions                            | 7             \n",
      " Weather_Conditions                          | 1             \n",
      " Road_Surface_Conditions                     | 2             \n",
      " Special_Conditions_at_Site                  | 0             \n",
      " Urban_or_Rural_Area                         | 1             \n",
      " Did_Police_Officer_Attend_Scene_of_Accident | 1             \n",
      " LSOA_of_Accident_Location                   | E01002863     \n",
      "only showing top 5 rows\n",
      "\n"
     ]
    }
   ],
   "source": [
    "accidentData_df.show(5, vertical=True)"
   ]
  },
  {
   "cell_type": "code",
   "execution_count": 9,
   "metadata": {},
   "outputs": [
    {
     "name": "stdout",
     "output_type": "stream",
     "text": [
      "-RECORD 0-----------------------------------------\n",
      " Food Standard Agency's ID | 24                   \n",
      " name                      | Angel Inn            \n",
      " address                   | 43 Friars Street,... \n",
      " postcode                  | CO10 2AG             \n",
      " easting                   | 587207.0             \n",
      " northing                  | 241058.0             \n",
      " latitude                  | 52.036312            \n",
      " longitude                 | 0.727924             \n",
      " local_authority           | Babergh              \n",
      "-RECORD 1-----------------------------------------\n",
      " Food Standard Agency's ID | 33                   \n",
      " name                      | Ark Bar Restaurant   \n",
      " address                   | Ark Bar And Resta... \n",
      " postcode                  | CO11 1RH             \n",
      " easting                   | 610194.0             \n",
      " northing                  | 233329.0             \n",
      " latitude                  | 51.958698            \n",
      " longitude                 | 1.057832             \n",
      " local_authority           | Babergh              \n",
      "-RECORD 2-----------------------------------------\n",
      " Food Standard Agency's ID | 60                   \n",
      " name                      | Black Boy            \n",
      " address                   | Black Boy Hotel, ... \n",
      " postcode                  | CO10 2EA             \n",
      " easting                   | 587356.0             \n",
      " northing                  | 241327.0             \n",
      " latitude                  | 52.038685            \n",
      " longitude                 | 0.730226             \n",
      " local_authority           | Babergh              \n",
      "-RECORD 3-----------------------------------------\n",
      " Food Standard Agency's ID | 61                   \n",
      " name                      | Black Horse          \n",
      " address                   | Lower Street, Str... \n",
      " postcode                  | CO7 6JS              \n",
      " easting                   | 604270.0             \n",
      " northing                  | 233920.0             \n",
      " latitude                  | 51.966211            \n",
      " longitude                 | 0.972091             \n",
      " local_authority           | Babergh              \n",
      "-RECORD 4-----------------------------------------\n",
      " Food Standard Agency's ID | 62                   \n",
      " name                      | Black Lion           \n",
      " address                   | Lion Road, Glemsf... \n",
      " postcode                  | CO10 7RF             \n",
      " easting                   | 582750.0             \n",
      " northing                  | 248298.0             \n",
      " latitude                  | 52.102815            \n",
      " longitude                 | 0.666893             \n",
      " local_authority           | Babergh              \n",
      "only showing top 5 rows\n",
      "\n"
     ]
    }
   ],
   "source": [
    "pubsData_df.show(5, vertical=True)\n",
    "\n"
   ]
  },
  {
   "cell_type": "code",
   "execution_count": 10,
   "metadata": {},
   "outputs": [],
   "source": [
    "#Creating Table\n",
    "pubsData_df.registerTempTable('pubsTable')\n",
    "accidentData_df.registerTempTable('accidentTable')\n",
    "spark = SparkSession.builder.getOrCreate()\n",
    "sqlContext = SQLContext(spark)#Running Query\n",
    "#Running Query\n",
    "df1 = sqlContext.sql(\"SELECT COUNT(local_authority) as count,local_authority from pubsTable group by local_authority order by count\")\n",
    "df2 = sqlContext.sql(\"SELECT COUNT(Number_of_Casualties) as count_casulties,SPEED_LIMIT FROM accidentTable group by SPEED_LIMIT order by SPEED_LIMIT\")\n",
    "## type sql dataframe .collect to get list"
   ]
  },
  {
   "cell_type": "code",
   "execution_count": 11,
   "metadata": {},
   "outputs": [
    {
     "name": "stdout",
     "output_type": "stream",
     "text": [
      "[4, 2, 16160, 983411, 128365, 49398, 229611, 113047]\n"
     ]
    },
    {
     "data": {
      "image/png": "[encoded data removed]",
      "text/plain": [
       "<Figure size 432x288 with 1 Axes>"
      ]
     },
     "metadata": {
      "needs_background": "light"
     },
     "output_type": "display_data"
    }
   ],
   "source": [
    "list_casulties_speed=[]\n",
    "list_speed_casulties=[]\n",
    "for x in df2.collect():\n",
    "    list_casulties_speed.append(x[0])\n",
    "    list_speed_casulties.append(int(x[1]))\n",
    "print(list_casulties_speed)\n",
    "plt.bar(list_speed_casulties,list_casulties_speed)\n",
    "plt.title(\"Aantal gevallen per snelheids drempel\")\n",
    "plt.xlabel('Snelheid')\n",
    "plt.ylabel('Aantal Slachtoffers')\n",
    "plt.show()"
   ]
  },
  {
   "cell_type": "code",
   "execution_count": 12,
   "metadata": {},
   "outputs": [
    {
     "name": "stdout",
     "output_type": "stream",
     "text": [
      "['Isles of Scilly', 'East Renfrewshire', 'Orkney Islands', 'Na h-Eileanan Siar', 'Gloucester', 'Epsom and Ewell', 'Slough', 'Shetland Islands', 'Oadby and Wigston', 'Barking and Dagenham', 'Forest of Dean', 'Castle Point', 'Corby', 'Stevenage', 'Three Rivers', 'Croydon', 'East Ayrshire', 'Adur', 'West Lothian', 'Sutton', 'Watford', 'Surrey Heath', 'Hertsmere', 'Rochford', 'West Dunbartonshire', 'Highland', 'South Ribble', 'Gedling', 'East Dunbartonshire', 'Rutland', 'Clackmannanshire', 'Midlothian', 'Havant', 'Broxbourne', 'Redditch', 'Rushmoor', 'Blackpool', 'Welwyn Hatfield', 'Richmondshire', 'Crawley', 'Gosport', 'Luton', 'Hart', 'Fareham', 'Eastbourne', 'Thurrock', 'Perth and Kinross', 'Denbighshire', 'Spelthorne', 'Blaby', 'Bury', 'Woking', 'Newham', 'Knowsley', 'Melton', 'South Bucks', 'Dartford', 'Bracknell Forest', 'Selby', 'Merton', 'Harlow', 'Runnymede', 'Maldon', 'Tamworth', 'Mole Valley', 'Tewkesbury', 'East Cambridgeshire', 'Ipswich', 'Boston', 'Harborough', 'Reigate and Banstead', 'Inverclyde', 'Chiltern', 'Rushcliffe', 'Fylde', 'South Holland', 'Argyll and Bute', 'Basildon', 'South Oxfordshire', 'Broadland', 'Worthing', 'West Devon', 'Wellingborough', 'Merthyr Tydfil', 'Rossendale', 'Eastleigh', 'Torbay', 'Aberdeenshire', 'Kettering', 'Pendle', 'Redbridge', 'Moray', 'Broxtowe', 'Mid Suffolk', 'Ashford', 'Harrow', 'Southend-on-Sea', 'Brent', 'Hastings', 'Ryedale', 'Bolsover', 'Tunbridge Wells', 'Wokingham', 'Wrexham', 'Peterborough', 'Isle of Anglesey', 'Gravesham', 'Mid Devon', 'Lincoln', 'Craven', 'Cambridge', 'Daventry', 'Cannock Chase', 'Waverley', 'Waltham Forest', 'Mansfield', 'Fenland', 'Havering', 'West Lindsey', 'Haringey', 'Lewisham', 'Babergh', 'Uttlesford', 'Windsor and Maidenhead', 'Tandridge', 'Cheltenham', 'Carlisle', 'Ashfield', 'Halton', 'East Lothian', 'North West Leicestershire', 'Wyre', 'Worcester', 'Torridge', 'Great Yarmouth', 'Bromsgrove', 'Tendring', 'North Warwickshire', 'Burnley', 'Tonbridge and Malling', 'Lewes', 'Ceredigion', 'Guildford', 'Torfaen', 'Stroud', 'Greenwich', 'Cherwell', 'Brentwood', 'Sevenoaks', 'Barrow-in-Furness', 'Kensington and Chelsea', 'Hyndburn', 'East Northamptonshire', 'Horsham', 'Darlington', 'Nuneaton and Bedworth', 'West Lancashire', 'Colchester', 'North Kesteven', 'South Cambridgeshire', 'Mid Sussex', 'South Norfolk', 'Basingstoke and Deane', 'Winchester', 'Chorley', 'Breckland', 'Arun', 'Blaenau Gwent', 'Copeland', 'Ribble Valley', 'Kingston upon Thames', 'West Oxfordshire', 'South Derbyshire', 'Malvern Hills', 'Hartlepool', 'Rother', 'Middlesbrough', 'Wyre Forest', 'Medway', 'Newport', 'Hinckley and Bosworth', 'South Northamptonshire', 'Falkirk', 'Allerdale', 'Swindon', 'Exeter', 'East Staffordshire', 'Reading', 'North East Derbyshire', 'Monmouthshire', 'Rugby', 'Erewash', 'Bassetlaw', 'Hammersmith and Fulham', 'St Albans', 'Warwick', 'Hambleton', 'Bexley', 'Blackburn with Darwen', 'Vale of White Horse', 'Test Valley', 'Barnet', 'South Staffordshire', 'Braintree', 'Eden', 'East Hampshire', 'Solihull', 'Dacorum', 'Maidstone', 'Newcastle-under-Lyme', 'North Hertfordshire', 'Vale of Glamorgan', 'Milton Keynes', 'West Suffolk', 'North Devon', 'Cotswold', 'Elmbridge', 'Lichfield', 'Hounslow', 'Chelmsford', 'Lancaster', 'Huntingdonshire', 'Preston', 'Northampton', 'North Lincolnshire', 'South Hams', 'Telford and Wrekin', 'Newark and Sherwood', 'North Tyneside', 'South Kesteven', 'Swale', 'Redcar and Cleveland', 'Angus', 'Bedford', 'Chesterfield', 'Oxford', 'South Tyneside', 'Folkestone and Hythe', 'Ealing', 'Gwynedd', 'South Ayrshire', 'North East Lincolnshire', 'Trafford', 'Hillingdon', 'Dumfries and Galloway', 'Chichester', 'Southampton', 'Richmond upon Thames', 'Plymouth', 'West Berkshire', 'North Norfolk', 'Scottish Borders', 'Wycombe', 'Renfrewshire', 'Thanet', 'Dover', 'Somerset West and Taunton', 'St. Helens', 'Wychavon', 'Stockport', 'Wealden', 'Epping Forest', 'Central Bedfordshire', 'Teignbridge', 'Bridgend', 'North Ayrshire', 'East Devon', 'Stafford', 'Enfield', 'Tower Hamlets', 'Flintshire', 'Norwich', 'Pembrokeshire', 'Canterbury', 'Sedgemoor', 'Derbyshire Dales', 'Mendip', 'Bath and North East Somerset', 'Stockton-on-Tees', 'Wandsworth', 'Neath Port Talbot', 'Hackney', 'South Lakeland', 'Leicester', 'Islington', 'Lambeth', 'Charnwood', 'New Forest', 'Scarborough', 'East Hertfordshire', 'Conwy', 'Amber Valley', 'Bromley', 'Portsmouth', \"King's Lynn and West Norfolk\", 'Salford', 'Wolverhampton', 'Gateshead', 'Kingston upon Hull, City of', 'Dundee City', 'Stratford-on-Avon', 'Bolton', 'Coventry', 'Aylesbury Vale', 'Rochdale', 'Harrogate', 'Warrington', 'Walsall', 'Southwark', 'South Gloucestershire', 'Aberdeen City', 'South Somerset', 'Derby', 'North Somerset', 'Bournemouth, Christchurch and Poole', 'Swansea', 'Cheshire West and Chester', 'Isle of Wight', 'Wigan', 'Rotherham', 'Cardiff', 'North Lanarkshire', 'Wirral', 'York', 'Sunderland', 'Tameside', 'Caerphilly', 'City of London', 'East Suffolk', 'Sandwell', 'Herefordshire, County of', 'Sefton', 'South Lanarkshire', 'Nottingham', 'Oldham', 'Newcastle upon Tyne', 'Stoke-on-Trent', 'Carmarthenshire', 'Barnsley', 'Camden', 'Cheshire East', 'Powys', 'East Lindsey', 'Dudley', 'Doncaster', 'Rhondda Cynon Taf', 'Wakefield', 'Sheffield', 'Manchester', 'Calderdale', 'Westminster', 'Brighton and Hove', 'Glasgow City', 'Bristol, City of', 'Fife', 'Shropshire', 'Liverpool', 'Dorset', 'East Riding of Yorkshire', 'Northumberland', 'Bradford', 'Birmingham', 'City of Edinburgh', 'Kirklees', 'Wiltshire', 'Cornwall', 'Leeds', 'County Durham']\n"
     ]
    }
   ],
   "source": [
    "local_authority=[]\n",
    "for row in df1.collect():\n",
    "    local_authority.append(row.local_authority)\n",
    "print(local_authority)"
   ]
  },
  {
   "cell_type": "code",
   "execution_count": null,
   "metadata": {},
   "outputs": [],
   "source": []
  },
  {
   "cell_type": "code",
   "execution_count": 13,
   "metadata": {},
   "outputs": [
    {
     "data": {
      "application/vnd.jupyter.widget-view+json": {
       "model_id": "49732485b6fc4c3a8406bd84793cc835",
       "version_major": 2,
       "version_minor": 0
      },
      "text/plain": [
       "Dropdown(description='Authority:', options=('Isles of Scilly', 'East Renfrewshire', 'Orkney Islands', 'Na h-Ei…"
      ]
     },
     "metadata": {},
     "output_type": "display_data"
    },
    {
     "data": {
      "text/plain": [
       "None"
      ]
     },
     "metadata": {},
     "output_type": "display_data"
    }
   ],
   "source": [
    "choose_local_authority = widgets.Dropdown(\n",
    "    options=local_authority,\n",
    "    value='Isles of Scilly',\n",
    "    description='Authority:',\n",
    ")\n",
    "displayMap=True\n",
    "\n",
    "def load_map_points(local_authority):\n",
    "    df1 = sqlContext.sql(\"SELECT * from pubsTable where local_authority='\"+local_authority+\"'\")\n",
    "    local_authority_coordinates = (df1.collect()[0].latitude,df1.collect()[0].longitude)\n",
    "    map = folium.Map(location=local_authority_coordinates, zoom_start=11.5)\n",
    "    if displayMap:\n",
    "        display(map)\n",
    "    displayMap=False\n",
    "    ## testing \n",
    "    counter=0\n",
    "    for row in df1.collect():\n",
    "        folium.Marker(location = [row.latitude,row.longitude]).add_to(map)\n",
    "def on_change(change):\n",
    "    if change['type'] == 'change' and change['name'] == 'value':\n",
    "        load_map_points(change['new'])\n",
    "choose_local_authority.observe(on_change)\n",
    "display(display(choose_local_authority))\n"
   ]
  },
  {
   "cell_type": "code",
   "execution_count": 14,
   "metadata": {
    "scrolled": true
   },
   "outputs": [
    {
     "name": "stdout",
     "output_type": "stream",
     "text": [
      "<folium.folium.Map object at 0x000001B992EB9940>\n"
     ]
    },
    {
     "data": {
      "text/html": [
       "<div style=\"width:100%;\"><div style=\"position:relative;width:100%;height:0;padding-bottom:60%;\"><span style=\"color:#565656\">Make this Notebook Trusted to load map: File -> Trust Notebook</span><iframe src=\"about:blank\" style=\"position:absolute;width:100%;height:100%;left:0;top:0;border:none !important;\" data-html=%3C%21DOCTYPE%20html%3E%0A%3Chead%3E%20%20%20%20%0A%20%20%20%20%3Cmeta%20http-equiv%3D%22content-type%22%20content%3D%22text/html%3B%20charset%3DUTF-8%22%20/%3E%0A%20%20%20%20%0A%20%20%20%20%20%20%20%20%3Cscript%3E%0A%20%20%20%20%20%20%20%20%20%20%20%20L_NO_TOUCH%20%3D%20false%3B%0A%20%20%20%20%20%20%20%20%20%20%20%20L_DISABLE_3D%20%3D%20false%3B%0A%20%20%20%20%20%20%20%20%3C/script%3E%0A%20%20%20%20%0A%20%20%20%20%3Cstyle%3Ehtml%2C%20body%20%7Bwidth%3A%20100%25%3Bheight%3A%20100%25%3Bmargin%3A%200%3Bpadding%3A%200%3B%7D%3C/style%3E%0A%20%20%20%20%3Cstyle%3E%23map%20%7Bposition%3Aabsolute%3Btop%3A0%3Bbottom%3A0%3Bright%3A0%3Bleft%3A0%3B%7D%3C/style%3E%0A%20%20%20%20%3Cscript%20src%3D%22https%3A//cdn.jsdelivr.net/npm/leaflet%401.6.0/dist/leaflet.js%22%3E%3C/script%3E%0A%20%20%20%20%3Cscript%20src%3D%22https%3A//code.jquery.com/jquery-1.12.4.min.js%22%3E%3C/script%3E%0A%20%20%20%20%3Cscript%20src%3D%22https%3A//maxcdn.bootstrapcdn.com/bootstrap/3.2.0/js/bootstrap.min.js%22%3E%3C/script%3E%0A%20%20%20%20%3Cscript%20src%3D%22https%3A//cdnjs.cloudflare.com/ajax/libs/Leaflet.awesome-markers/2.0.2/leaflet.awesome-markers.js%22%3E%3C/script%3E%0A%20%20%20%20%3Clink%20rel%3D%22stylesheet%22%20href%3D%22https%3A//cdn.jsdelivr.net/npm/leaflet%401.6.0/dist/leaflet.css%22/%3E%0A%20%20%20%20%3Clink%20rel%3D%22stylesheet%22%20href%3D%22https%3A//maxcdn.bootstrapcdn.com/bootstrap/3.2.0/css/bootstrap.min.css%22/%3E%0A%20%20%20%20%3Clink%20rel%3D%22stylesheet%22%20href%3D%22https%3A//maxcdn.bootstrapcdn.com/bootstrap/3.2.0/css/bootstrap-theme.min.css%22/%3E%0A%20%20%20%20%3Clink%20rel%3D%22stylesheet%22%20href%3D%22https%3A//maxcdn.bootstrapcdn.com/font-awesome/4.6.3/css/font-awesome.min.css%22/%3E%0A%20%20%20%20%3Clink%20rel%3D%22stylesheet%22%20href%3D%22https%3A//cdnjs.cloudflare.com/ajax/libs/Leaflet.awesome-markers/2.0.2/leaflet.awesome-markers.css%22/%3E%0A%20%20%20%20%3Clink%20rel%3D%22stylesheet%22%20href%3D%22https%3A//cdn.jsdelivr.net/gh/python-visualization/folium/folium/templates/leaflet.awesome.rotate.min.css%22/%3E%0A%20%20%20%20%0A%20%20%20%20%20%20%20%20%20%20%20%20%3Cmeta%20name%3D%22viewport%22%20content%3D%22width%3Ddevice-width%2C%0A%20%20%20%20%20%20%20%20%20%20%20%20%20%20%20%20initial-scale%3D1.0%2C%20maximum-scale%3D1.0%2C%20user-scalable%3Dno%22%20/%3E%0A%20%20%20%20%20%20%20%20%20%20%20%20%3Cstyle%3E%0A%20%20%20%20%20%20%20%20%20%20%20%20%20%20%20%20%23map_2de6c707aff14958ace39923963df309%20%7B%0A%20%20%20%20%20%20%20%20%20%20%20%20%20%20%20%20%20%20%20%20position%3A%20relative%3B%0A%20%20%20%20%20%20%20%20%20%20%20%20%20%20%20%20%20%20%20%20width%3A%20100.0%25%3B%0A%20%20%20%20%20%20%20%20%20%20%20%20%20%20%20%20%20%20%20%20height%3A%20100.0%25%3B%0A%20%20%20%20%20%20%20%20%20%20%20%20%20%20%20%20%20%20%20%20left%3A%200.0%25%3B%0A%20%20%20%20%20%20%20%20%20%20%20%20%20%20%20%20%20%20%20%20top%3A%200.0%25%3B%0A%20%20%20%20%20%20%20%20%20%20%20%20%20%20%20%20%7D%0A%20%20%20%20%20%20%20%20%20%20%20%20%3C/style%3E%0A%20%20%20%20%20%20%20%20%0A%3C/head%3E%0A%3Cbody%3E%20%20%20%20%0A%20%20%20%20%0A%20%20%20%20%20%20%20%20%20%20%20%20%3Cdiv%20class%3D%22folium-map%22%20id%3D%22map_2de6c707aff14958ace39923963df309%22%20%3E%3C/div%3E%0A%20%20%20%20%20%20%20%20%0A%3C/body%3E%0A%3Cscript%3E%20%20%20%20%0A%20%20%20%20%0A%20%20%20%20%20%20%20%20%20%20%20%20var%20map_2de6c707aff14958ace39923963df309%20%3D%20L.map%28%0A%20%20%20%20%20%20%20%20%20%20%20%20%20%20%20%20%22map_2de6c707aff14958ace39923963df309%22%2C%0A%20%20%20%20%20%20%20%20%20%20%20%20%20%20%20%20%7B%0A%20%20%20%20%20%20%20%20%20%20%20%20%20%20%20%20%20%20%20%20center%3A%20%5B53.55%2C%20-6.4333%5D%2C%0A%20%20%20%20%20%20%20%20%20%20%20%20%20%20%20%20%20%20%20%20crs%3A%20L.CRS.EPSG3857%2C%0A%20%20%20%20%20%20%20%20%20%20%20%20%20%20%20%20%20%20%20%20zoom%3A%205.5%2C%0A%20%20%20%20%20%20%20%20%20%20%20%20%20%20%20%20%20%20%20%20zoomControl%3A%20true%2C%0A%20%20%20%20%20%20%20%20%20%20%20%20%20%20%20%20%20%20%20%20preferCanvas%3A%20false%2C%0A%20%20%20%20%20%20%20%20%20%20%20%20%20%20%20%20%7D%0A%20%20%20%20%20%20%20%20%20%20%20%20%29%3B%0A%0A%20%20%20%20%20%20%20%20%20%20%20%20%0A%0A%20%20%20%20%20%20%20%20%0A%20%20%20%20%0A%20%20%20%20%20%20%20%20%20%20%20%20var%20tile_layer_8aa9aa20b6a5465f84cdb81d9ef9aabf%20%3D%20L.tileLayer%28%0A%20%20%20%20%20%20%20%20%20%20%20%20%20%20%20%20%22https%3A//%7Bs%7D.tile.openstreetmap.org/%7Bz%7D/%7Bx%7D/%7By%7D.png%22%2C%0A%20%20%20%20%20%20%20%20%20%20%20%20%20%20%20%20%7B%22attribution%22%3A%20%22Data%20by%20%5Cu0026copy%3B%20%5Cu003ca%20href%3D%5C%22http%3A//openstreetmap.org%5C%22%5Cu003eOpenStreetMap%5Cu003c/a%5Cu003e%2C%20under%20%5Cu003ca%20href%3D%5C%22http%3A//www.openstreetmap.org/copyright%5C%22%5Cu003eODbL%5Cu003c/a%5Cu003e.%22%2C%20%22detectRetina%22%3A%20false%2C%20%22maxNativeZoom%22%3A%2018%2C%20%22maxZoom%22%3A%2018%2C%20%22minZoom%22%3A%200%2C%20%22noWrap%22%3A%20false%2C%20%22opacity%22%3A%201%2C%20%22subdomains%22%3A%20%22abc%22%2C%20%22tms%22%3A%20false%7D%0A%20%20%20%20%20%20%20%20%20%20%20%20%29.addTo%28map_2de6c707aff14958ace39923963df309%29%3B%0A%20%20%20%20%20%20%20%20%0A%3C/script%3E onload=\"this.contentDocument.open();this.contentDocument.write(    decodeURIComponent(this.getAttribute('data-html')));this.contentDocument.close();\" allowfullscreen webkitallowfullscreen mozallowfullscreen></iframe></div></div>"
      ],
      "text/plain": [
       "<folium.folium.Map at 0x1b992eb9940>"
      ]
     },
     "metadata": {},
     "output_type": "display_data"
    }
   ],
   "source": [
    "#Trying to create a map with pubs\n",
    "UK_COORDINATES = (53.5500, -6.4333)\n",
    "map = folium.Map(location=UK_COORDINATES, zoom_start=5.5)\n",
    "## testing \n",
    "print(map)\n",
    "counter=0\n",
    "\n",
    "display(map)"
   ]
  },
  {
   "cell_type": "code",
   "execution_count": 15,
   "metadata": {},
   "outputs": [
    {
     "data": {
      "text/html": [
       "<div style=\"width:100%;\"><div style=\"position:relative;width:100%;height:0;padding-bottom:60%;\"><span style=\"color:#565656\">Make this Notebook Trusted to load map: File -> Trust Notebook</span><iframe src=\"about:blank\" style=\"position:absolute;width:100%;height:100%;left:0;top:0;border:none !important;\" data-html=%3C%21DOCTYPE%20html%3E%0A%3Chead%3E%20%20%20%20%0A%20%20%20%20%3Cmeta%20http-equiv%3D%22content-type%22%20content%3D%22text/html%3B%20charset%3DUTF-8%22%20/%3E%0A%20%20%20%20%0A%20%20%20%20%20%20%20%20%3Cscript%3E%0A%20%20%20%20%20%20%20%20%20%20%20%20L_NO_TOUCH%20%3D%20false%3B%0A%20%20%20%20%20%20%20%20%20%20%20%20L_DISABLE_3D%20%3D%20false%3B%0A%20%20%20%20%20%20%20%20%3C/script%3E%0A%20%20%20%20%0A%20%20%20%20%3Cstyle%3Ehtml%2C%20body%20%7Bwidth%3A%20100%25%3Bheight%3A%20100%25%3Bmargin%3A%200%3Bpadding%3A%200%3B%7D%3C/style%3E%0A%20%20%20%20%3Cstyle%3E%23map%20%7Bposition%3Aabsolute%3Btop%3A0%3Bbottom%3A0%3Bright%3A0%3Bleft%3A0%3B%7D%3C/style%3E%0A%20%20%20%20%3Cscript%20src%3D%22https%3A//cdn.jsdelivr.net/npm/leaflet%401.6.0/dist/leaflet.js%22%3E%3C/script%3E%0A%20%20%20%20%3Cscript%20src%3D%22https%3A//code.jquery.com/jquery-1.12.4.min.js%22%3E%3C/script%3E%0A%20%20%20%20%3Cscript%20src%3D%22https%3A//maxcdn.bootstrapcdn.com/bootstrap/3.2.0/js/bootstrap.min.js%22%3E%3C/script%3E%0A%20%20%20%20%3Cscript%20src%3D%22https%3A//cdnjs.cloudflare.com/ajax/libs/Leaflet.awesome-markers/2.0.2/leaflet.awesome-markers.js%22%3E%3C/script%3E%0A%20%20%20%20%3Clink%20rel%3D%22stylesheet%22%20href%3D%22https%3A//cdn.jsdelivr.net/npm/leaflet%401.6.0/dist/leaflet.css%22/%3E%0A%20%20%20%20%3Clink%20rel%3D%22stylesheet%22%20href%3D%22https%3A//maxcdn.bootstrapcdn.com/bootstrap/3.2.0/css/bootstrap.min.css%22/%3E%0A%20%20%20%20%3Clink%20rel%3D%22stylesheet%22%20href%3D%22https%3A//maxcdn.bootstrapcdn.com/bootstrap/3.2.0/css/bootstrap-theme.min.css%22/%3E%0A%20%20%20%20%3Clink%20rel%3D%22stylesheet%22%20href%3D%22https%3A//maxcdn.bootstrapcdn.com/font-awesome/4.6.3/css/font-awesome.min.css%22/%3E%0A%20%20%20%20%3Clink%20rel%3D%22stylesheet%22%20href%3D%22https%3A//cdnjs.cloudflare.com/ajax/libs/Leaflet.awesome-markers/2.0.2/leaflet.awesome-markers.css%22/%3E%0A%20%20%20%20%3Clink%20rel%3D%22stylesheet%22%20href%3D%22https%3A//cdn.jsdelivr.net/gh/python-visualization/folium/folium/templates/leaflet.awesome.rotate.min.css%22/%3E%0A%20%20%20%20%0A%20%20%20%20%20%20%20%20%20%20%20%20%3Cmeta%20name%3D%22viewport%22%20content%3D%22width%3Ddevice-width%2C%0A%20%20%20%20%20%20%20%20%20%20%20%20%20%20%20%20initial-scale%3D1.0%2C%20maximum-scale%3D1.0%2C%20user-scalable%3Dno%22%20/%3E%0A%20%20%20%20%20%20%20%20%20%20%20%20%3Cstyle%3E%0A%20%20%20%20%20%20%20%20%20%20%20%20%20%20%20%20%23map_2de6c707aff14958ace39923963df309%20%7B%0A%20%20%20%20%20%20%20%20%20%20%20%20%20%20%20%20%20%20%20%20position%3A%20relative%3B%0A%20%20%20%20%20%20%20%20%20%20%20%20%20%20%20%20%20%20%20%20width%3A%20100.0%25%3B%0A%20%20%20%20%20%20%20%20%20%20%20%20%20%20%20%20%20%20%20%20height%3A%20100.0%25%3B%0A%20%20%20%20%20%20%20%20%20%20%20%20%20%20%20%20%20%20%20%20left%3A%200.0%25%3B%0A%20%20%20%20%20%20%20%20%20%20%20%20%20%20%20%20%20%20%20%20top%3A%200.0%25%3B%0A%20%20%20%20%20%20%20%20%20%20%20%20%20%20%20%20%7D%0A%20%20%20%20%20%20%20%20%20%20%20%20%3C/style%3E%0A%20%20%20%20%20%20%20%20%0A%3C/head%3E%0A%3Cbody%3E%20%20%20%20%0A%20%20%20%20%0A%20%20%20%20%20%20%20%20%20%20%20%20%3Cdiv%20class%3D%22folium-map%22%20id%3D%22map_2de6c707aff14958ace39923963df309%22%20%3E%3C/div%3E%0A%20%20%20%20%20%20%20%20%0A%3C/body%3E%0A%3Cscript%3E%20%20%20%20%0A%20%20%20%20%0A%20%20%20%20%20%20%20%20%20%20%20%20var%20map_2de6c707aff14958ace39923963df309%20%3D%20L.map%28%0A%20%20%20%20%20%20%20%20%20%20%20%20%20%20%20%20%22map_2de6c707aff14958ace39923963df309%22%2C%0A%20%20%20%20%20%20%20%20%20%20%20%20%20%20%20%20%7B%0A%20%20%20%20%20%20%20%20%20%20%20%20%20%20%20%20%20%20%20%20center%3A%20%5B53.55%2C%20-6.4333%5D%2C%0A%20%20%20%20%20%20%20%20%20%20%20%20%20%20%20%20%20%20%20%20crs%3A%20L.CRS.EPSG3857%2C%0A%20%20%20%20%20%20%20%20%20%20%20%20%20%20%20%20%20%20%20%20zoom%3A%205.5%2C%0A%20%20%20%20%20%20%20%20%20%20%20%20%20%20%20%20%20%20%20%20zoomControl%3A%20true%2C%0A%20%20%20%20%20%20%20%20%20%20%20%20%20%20%20%20%20%20%20%20preferCanvas%3A%20false%2C%0A%20%20%20%20%20%20%20%20%20%20%20%20%20%20%20%20%7D%0A%20%20%20%20%20%20%20%20%20%20%20%20%29%3B%0A%0A%20%20%20%20%20%20%20%20%20%20%20%20%0A%0A%20%20%20%20%20%20%20%20%0A%20%20%20%20%0A%20%20%20%20%20%20%20%20%20%20%20%20var%20tile_layer_8aa9aa20b6a5465f84cdb81d9ef9aabf%20%3D%20L.tileLayer%28%0A%20%20%20%20%20%20%20%20%20%20%20%20%20%20%20%20%22https%3A//%7Bs%7D.tile.openstreetmap.org/%7Bz%7D/%7Bx%7D/%7By%7D.png%22%2C%0A%20%20%20%20%20%20%20%20%20%20%20%20%20%20%20%20%7B%22attribution%22%3A%20%22Data%20by%20%5Cu0026copy%3B%20%5Cu003ca%20href%3D%5C%22http%3A//openstreetmap.org%5C%22%5Cu003eOpenStreetMap%5Cu003c/a%5Cu003e%2C%20under%20%5Cu003ca%20href%3D%5C%22http%3A//www.openstreetmap.org/copyright%5C%22%5Cu003eODbL%5Cu003c/a%5Cu003e.%22%2C%20%22detectRetina%22%3A%20false%2C%20%22maxNativeZoom%22%3A%2018%2C%20%22maxZoom%22%3A%2018%2C%20%22minZoom%22%3A%200%2C%20%22noWrap%22%3A%20false%2C%20%22opacity%22%3A%201%2C%20%22subdomains%22%3A%20%22abc%22%2C%20%22tms%22%3A%20false%7D%0A%20%20%20%20%20%20%20%20%20%20%20%20%29.addTo%28map_2de6c707aff14958ace39923963df309%29%3B%0A%20%20%20%20%20%20%20%20%0A%3C/script%3E onload=\"this.contentDocument.open();this.contentDocument.write(    decodeURIComponent(this.getAttribute('data-html')));this.contentDocument.close();\" allowfullscreen webkitallowfullscreen mozallowfullscreen></iframe></div></div>"
      ],
      "text/plain": [
       "<folium.folium.Map at 0x1b992eb9940>"
      ]
     },
     "execution_count": 15,
     "metadata": {},
     "output_type": "execute_result"
    }
   ],
   "source": [
    "map"
   ]
  },
  {
   "cell_type": "code",
   "execution_count": 18,
   "metadata": {},
   "outputs": [],
   "source": [
    "### twee dataframes in één dataframe joinen m.b.v. ID(Accident_Index). Beide dataframes hebben evenveel records.\n",
    "joined = accidentData_df.alias(\"A\").join(casualtiesData_df.alias(\"B\"),col(\"A.Accident_Index\") == col(\"B.Accident_Index\"),\"inner\").select(col(\"A.Accident_Index\"), col(\"A.Longitude\"),col(\"A.Latitude\"), col(\"A.Police_Force\"), col(\"A.Accident_Severity\"), col(\"A.Number_of_Vehicles\"), col(\"A.Number_of_Casualties\"), col(\"A.Date\"), col(\"A.Day_of_Week\"),col(\"A.Time\"), col(\"A.1st_Road_Class\"), col(\"A.Road_Type\"), col(\"A.Speed_limit\"), col(\"A.Junction_Detail\"), col(\"A.Junction_Control\"), col(\"A.Light_Conditions\"), col(\"A.Weather_Conditions\"), col(\"A.Road_Surface_Conditions\"), col(\"A.Special_Conditions_at_Site\"), col(\"A.Urban_or_Rural_Area\"), col(\"A.Did_Police_Officer_Attend_Scene_of_Accident\"), col(\"A.LSOA_of_Accident_Location\"), col(\"B.Casualty_Class\"), col(\"B.Sex_of_Casualty\"), col(\"B.Age_of_Casualty\"), col(\"B.Casualty_Severity\"), col(\"B.Pedestrian_Location\"), col(\"B.Car_Passenger\"), col(\"B.Casualty_Type\")).toDF(\"Accident_Index\", \"Longitude\",\"Latitude\",\"Police_Force\", \"Accident_Severity\",\"Number_of_Vehicles\", \"Number_of_Casualties\", \"Date\", \"Day_of_Week\",\"Time\",\"1st_Road_Class\", \"Road_Type\", \"Speed_limit\",\"Junction_Detail\", \"Junction_Control\",\"Light_Conditions\", \"Weather_Conditions\",\"Road_Surface_Conditions\",\"Special_Conditions_at_Site\",\"Urban_or_Rural_Area\", \"Did_Police_Officer_Attend_Scene_of_Accident\", \"LSOA_of_Accident_Location\",\"Casualty_Class\",\"Sex_of_Casualty\",\"Age_of_Casualty\",\"Casualty_Severity\",\"Pedestrian_Location\",\"Car_Passenger\",\"Casualty_Type\")"
   ]
  },
  {
   "cell_type": "code",
   "execution_count": 19,
   "metadata": {},
   "outputs": [
    {
     "name": "stdout",
     "output_type": "stream",
     "text": [
      "+-------------+-------+\n",
      "|Casualty_Type|  count|\n",
      "+-------------+-------+\n",
      "|           11|  57485|\n",
      "|            3|  63957|\n",
      "|            8|  28020|\n",
      "|           22|    331|\n",
      "|           16|   1116|\n",
      "|            0| 251398|\n",
      "|           98|     50|\n",
      "|            5|  80881|\n",
      "|           18|    102|\n",
      "|           17|   1007|\n",
      "|           90|   9338|\n",
      "|           19|  45911|\n",
      "|           23|     17|\n",
      "|           97|    193|\n",
      "|            9|1270126|\n",
      "|            1| 169654|\n",
      "|           20|   5500|\n",
      "|           10|   6767|\n",
      "|            4|  22117|\n",
      "|           21|  11037|\n",
      "|            2|  33572|\n",
      "+-------------+-------+\n",
      "\n",
      "Ongeveer 83% van alle accidenten werden veroorzaakt in een auto (Casualty_Type 9). Andere voertuigen zijn vooral brommers onderverdeeld in groepen (50cc, 125cc, 500cc enzo) andere voertuigen zijn wel een beetje raar boerderij voertuigen? taxi? trambestuurders? zelfs paarden. Kans dat er iemand met een paard naar een pub gaat is vrij klein denk ik. Dus wat doen wij? enkel autos en brommers bijhouden en de rest verwijderen of gewoon zo laten?\n"
     ]
    }
   ],
   "source": [
    "### Soorten voertuigen\n",
    "from collections import Counter\n",
    "from pyspark.sql.functions import count\n",
    "\n",
    "joined.groupby(\"Casualty_Type\").count().show(22)\n",
    "print(\"Ongeveer 83% van alle accidenten werden veroorzaakt in een auto (Casualty_Type 9). Andere voertuigen zijn vooral brommers onderverdeeld in groepen (50cc, 125cc, 500cc enzo) andere voertuigen zijn wel een beetje raar boerderij voertuigen? taxi? trambestuurders? zelfs paarden. Kans dat er iemand met een paard naar een pub gaat is vrij klein denk ik. Dus wat doen wij? enkel autos en brommers bijhouden en de rest verwijderen of gewoon zo laten?\")"
   ]
  },
  {
   "cell_type": "code",
   "execution_count": 20,
   "metadata": {},
   "outputs": [
    {
     "name": "stdout",
     "output_type": "stream",
     "text": [
      "+--------------+-------+\n",
      "|Casualty_Class|  count|\n",
      "+--------------+-------+\n",
      "|             3| 251398|\n",
      "|             1|1307284|\n",
      "|             2| 499897|\n",
      "+--------------+-------+\n",
      "\n",
      "Casualty_Class geeft aan of de persoon in kwestie een passagier(2), bestuurder van een voertuig(1) of een voetganger(3) is. Aangezien wij opzoek zijn naar accidenten die werden veroorzaakt door dronken mensen, lijkt het mij onwaarschijnlijk dat passagiers van voertuigen de oorzaak kunnen zijn van een accident dus ik dacht misschien Casualty_Class(2) weglaten?\n"
     ]
    }
   ],
   "source": [
    "### Casualty Class\n",
    "joined.groupby(\"Casualty_Class\").count().show()\n",
    "print(\"Casualty_Class geeft aan of de persoon in kwestie een passagier(2), bestuurder van een voertuig(1) of een voetganger(3) is. Aangezien wij opzoek zijn naar accidenten die werden veroorzaakt door dronken mensen, lijkt het mij onwaarschijnlijk dat passagiers van voertuigen de oorzaak kunnen zijn van een accident dus ik dacht misschien Casualty_Class(2) weglaten?\")"
   ]
  },
  {
   "cell_type": "code",
   "execution_count": 21,
   "metadata": {},
   "outputs": [
    {
     "name": "stdout",
     "output_type": "stream",
     "text": [
      "+---------------+-----+\n",
      "|Age_of_Casualty|count|\n",
      "+---------------+-----+\n",
      "|             51|22497|\n",
      "|              7|10372|\n",
      "|             54|19253|\n",
      "|             -1|45488|\n",
      "|             15|21030|\n",
      "|             11|18280|\n",
      "|            101|    2|\n",
      "|             29|38486|\n",
      "|             69| 8114|\n",
      "|             42|33251|\n",
      "|             73| 6948|\n",
      "|             87| 2511|\n",
      "|             64|11110|\n",
      "|              3| 7515|\n",
      "|             30|45375|\n",
      "|             34|33905|\n",
      "|             59|15507|\n",
      "|              8|11348|\n",
      "|             28|41181|\n",
      "|             22|54072|\n",
      "|             85| 3727|\n",
      "|             35|37741|\n",
      "|             52|21720|\n",
      "|             16|38820|\n",
      "|              0| 1715|\n",
      "|             71| 7175|\n",
      "|             98|   71|\n",
      "|             47|27522|\n",
      "|             99|   70|\n",
      "|             96|  145|\n",
      "|             43|32014|\n",
      "|              5| 8934|\n",
      "|             31|35359|\n",
      "|            100|    4|\n",
      "|             18|72211|\n",
      "|             70| 9663|\n",
      "|             61|13479|\n",
      "|             27|42096|\n",
      "|             75| 7338|\n",
      "|             17|60964|\n",
      "|             26|45473|\n",
      "|             46|28971|\n",
      "|             78| 5903|\n",
      "|             77| 6005|\n",
      "|             89| 1686|\n",
      "|              6| 9714|\n",
      "|             68| 8470|\n",
      "|             60|17396|\n",
      "|             90| 1374|\n",
      "|             19|66776|\n",
      "|             23|51806|\n",
      "|             41|32725|\n",
      "|            102|    2|\n",
      "|             55|19747|\n",
      "|             93|  487|\n",
      "|             95|  244|\n",
      "|             40|39055|\n",
      "|             38|33498|\n",
      "|            103|    1|\n",
      "|             25|50818|\n",
      "|             44|31011|\n",
      "|             82| 4953|\n",
      "|             53|20337|\n",
      "|             92|  730|\n",
      "|             86| 2940|\n",
      "|             58|16375|\n",
      "|             81| 5093|\n",
      "|             33|34461|\n",
      "|             48|27148|\n",
      "|             97|   96|\n",
      "|             67| 9029|\n",
      "|             84| 4010|\n",
      "|             79| 5781|\n",
      "|              9|12515|\n",
      "|             24|48720|\n",
      "|             32|35508|\n",
      "|             88| 1980|\n",
      "|              1| 4355|\n",
      "|             20|63995|\n",
      "|             56|17824|\n",
      "|             36|33286|\n",
      "|             10|14487|\n",
      "|             37|32580|\n",
      "|             49|25370|\n",
      "|             63|11981|\n",
      "|             65|11648|\n",
      "|              4| 8198|\n",
      "|             39|33437|\n",
      "|             62|13135|\n",
      "|             12|20083|\n",
      "|             83| 4390|\n",
      "|             13|18624|\n",
      "|             14|19238|\n",
      "|             21|57239|\n",
      "|             66| 9366|\n",
      "|             91|  964|\n",
      "|             94|  353|\n",
      "|             74| 6727|\n",
      "|             72| 7049|\n",
      "|             76| 6459|\n",
      "|              2| 5992|\n",
      "|             80| 6316|\n",
      "|             50|28133|\n",
      "|             45|32646|\n",
      "|             57|16853|\n",
      "+---------------+-----+\n",
      "\n",
      "Er zitten hier records van kinderen 3, 8 jaar enzo. in die andere excel bestand die jij hebt gestuurd was alle info over 16+ mensen. Dus hier weeral al die kinderen verwijderen? Age_of_Casualty met waarde -1 zijn gevallen waar de leeftijd niet gekend is\n"
     ]
    }
   ],
   "source": [
    "### Leeftijd\n",
    "joined.groupby(\"Age_of_Casualty\").count().show(121)\n",
    "print(\"Er zitten hier records van kinderen 3, 8 jaar enzo. in die andere excel bestand die jij hebt gestuurd was alle info over 16+ mensen. Dus hier weeral al die kinderen verwijderen? Age_of_Casualty met waarde -1 zijn gevallen waar de leeftijd niet gekend is\")"
   ]
  },
  {
   "cell_type": "code",
   "execution_count": null,
   "metadata": {},
   "outputs": [],
   "source": [
    "def sort_age(age):\n",
    "    age = int(age)\n",
    "    if 16 <= age < 25:\n",
    "        return \"16-24\"\n",
    "    elif 25<=age <35:\n",
    "        return \"25-34\"\n",
    "    elif 35<= age <45:\n",
    "        return \"35-44\"\n",
    "    elif 45<= age <60:\n",
    "        return \"45-60\"\n",
    "    elif 60<= age <120:\n",
    "        return \"+60\"\n",
    "    elif 0 <= age <16:\n",
    "        return \"Child\"\n",
    "    else:\n",
    "        return \"Unknown\"\n",
    "sort_age(24)\n",
    "joined = joined.withColumn(\"Age_of_Casualty\", col(\"Age_of_Casualty\").cast(\"int\"))\n",
    "joined = joined.withColumnRenamed(\"1st_Road_Class\", \"First_Road_Class\")\n",
    "joined2 = joined.rdd.map(lambda x: (x.Accident_Index, x.Longitude, \n",
    "                                    x.Latitude, x.Police_Force, x.Accident_Severity, x.Number_of_Vehicles, \n",
    "                                    x.Number_of_Casualties, x.Date, x.Day_of_Week, x.Time, x.First_Road_Class, \n",
    "                                    x.Road_Type, x.Speed_limit, x.Junction_Detail, x.Junction_Control, x.Light_Conditions, \n",
    "                                    x.Weather_Conditions,\n",
    "                                    x.Road_Surface_Conditions, x.Special_Conditions_at_Site,\n",
    "                                    x.Urban_or_Rural_Area, x.Did_Police_Officer_Attend_Scene_of_Accident, x.LSOA_of_Accident_Location, x.Casualty_Class, x.Sex_of_Casualty, x.Age_of_Casualty, x.Casualty_Severity, x.Pedestrian_Location, x.Car_Passenger, x.Casualty_Type, sort_age(x.Age_of_Casualty)))\n",
    "\n",
    "joined2 = joined2.toDF([\"Accident_Index\", \"Longitude\" , \"Latitude\" , \"Police_Force\" , \"Accident_Severity\" ,\n",
    "       \"Number_of_Vehicles\" , \"Number_of_Casualties\" , \"Date\" , \"Day_of_Week\" , \"Time\" , \"1st_Road_Class\" , \"Road_Type\" , \"Speed_limit\" , \"Junction_Detail\" , \"Junction_Control\" , \"Light_Conditions\" , \"Weather_Conditions\" , \"Road_Surface_Conditions\" , \"Special_Conditions_at_Site\" , \"Urban_or_Rural_Area\" ,\n",
    "       \"Did_Police_Officer_Attend_Scene_of_Accident\" , \"LSOA_of_Accident_Location\" , \"Casualty_Class\" , \"Sex_of_Casualty\" , \n",
    "       \"Age_of_Casualty\" , \"Casualty_Severity\" , \"Pedestrian_Location\" , \"Car_Passenger\" , \"Casualty_Type\" , \"Age_Cat\"])\n"
   ]
  },
  {
   "cell_type": "code",
   "execution_count": null,
   "metadata": {},
   "outputs": [],
   "source": [
    "joined2.show(20, vertical= True)"
   ]
  },
  {
   "cell_type": "code",
   "execution_count": null,
   "metadata": {},
   "outputs": [],
   "source": [
    "### Aantal accidenten per leeftijdscategorie\n",
    "joined2.groupby(\"Age_Cat\").count().show()"
   ]
  },
  {
   "cell_type": "code",
   "execution_count": null,
   "metadata": {},
   "outputs": [],
   "source": [
    "### Aantal accidenten per Leeftijdscategorie en ernstigheid van het incident\n",
    "joined2.groupby(\"Age_Cat\", \"Accident_Severity\").count().show()\n",
    "print(\"Zal proberen om er een staafdiagram van te maken\")"
   ]
  }
 ],
 "metadata": {
  "interpreter": {
   "hash": "e9efe275de89270cf0d9a414158c7c6b87af0a6303f6038d1925d6aaf54a8f58"
  },
  "kernelspec": {
   "display_name": "Python 3",
   "language": "python",
   "name": "python3"
  },
  "language_info": {
   "codemirror_mode": {
    "name": "ipython",
    "version": 3
   },
   "file_extension": ".py",
   "mimetype": "text/x-python",
   "name": "python",
   "nbconvert_exporter": "python",
   "pygments_lexer": "ipython3",
   "version": "3.8.8"
  }
 },
 "nbformat": 4,
 "nbformat_minor": 2
}
