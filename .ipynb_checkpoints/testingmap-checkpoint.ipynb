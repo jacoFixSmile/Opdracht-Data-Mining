{
 "cells": [
  {
   "cell_type": "code",
   "execution_count": 1,
   "metadata": {},
   "outputs": [],
   "source": [
    "import sys\n",
    "import findspark\n",
    "import pyspark\n",
    "findspark.init(\"c:/Users/Eigenaar/spark-3.1.2-bin-hadoop3.2\")"
   ]
  },
  {
   "cell_type": "code",
   "execution_count": 2,
   "metadata": {},
   "outputs": [],
   "source": [
    "from pyspark.sql import SparkSession\n",
    "spark = SparkSession.builder.getOrCreate()"
   ]
  },
  {
   "cell_type": "code",
   "execution_count": 3,
   "metadata": {},
   "outputs": [],
   "source": [
    "df = spark.read.format('csv').option('header',True).load('Accidents0514.csv')"
   ]
  },
  {
   "cell_type": "code",
   "execution_count": 4,
   "metadata": {},
   "outputs": [
    {
     "name": "stdout",
     "output_type": "stream",
     "text": [
      "+---+--------------------+----------------------------------+--------+------+------+---------+--------+-------+\n",
      "| 24|           Angel Inn|43 Friars Street, SUDBURY, Suffolk|CO10 2AG|587207|241058|52.036312|0.727924|Babergh|\n",
      "+---+--------------------+----------------------------------+--------+------+------+---------+--------+-------+\n",
      "| 33|  Ark Bar Restaurant|              Ark Bar And Resta...|CO11 1RH|610194|233329|51.958698|1.057832|Babergh|\n",
      "| 60|           Black Boy|              Black Boy Hotel, ...|CO10 2EA|587356|241327|52.038685|0.730226|Babergh|\n",
      "| 61|         Black Horse|              Lower Street, Str...| CO7 6JS|604270|233920|51.966211|0.972091|Babergh|\n",
      "| 62|          Black Lion|              Lion Road, Glemsf...|CO10 7RF|582750|248298|52.102815|0.666893|Babergh|\n",
      "| 83|        Bristol Arms|              Bristol Hill, Sho...| IP9 1PU|624667|233744|51.956771|1.268376|Babergh|\n",
      "| 98| Butt and Oyster Inn|              Pin Mill Road, Ch...| IP9 1JW|620709|237978|51.996361|1.213605|Babergh|\n",
      "|108|     Caffeine Lounge|              14 Borehamgate Sh...|CO10 2ED|587527|241247|52.037903|0.732687|Babergh|\n",
      "|122|       Carriers Arms|              Heath Road, East ...| CO7 6RA|607463|235397|51.978282|1.019392|Babergh|\n",
      "|155|       Cock And Bell|              Hall Street, Long...|CO10 9JR|586263|245560|52.077065|0.716630|Babergh|\n",
      "|166|       Compasses Inn|              Ipswich Road, Hol...| IP9 2QR|616975|236365|51.983351|1.158283|Babergh|\n",
      "|198|           Crown Inn|              Cattawade Street,...|CO11 1RE|610208|233105|51.956682|1.057899|Babergh|\n",
      "|209|         Delphi Club|              Delphi Diesel Sys...|CO10 2RR|588318|241705|52.041752|0.744457|Babergh|\n",
      "|254|      Five Bells Inn|              63 Bures Road, Gr...|CO10 0HU|588335|240258|52.028751|0.743908|Babergh|\n",
      "|262|      Fox and Hounds|              Church Street, Gr...|CO10 5ED|595966|241547|52.037694|0.855736|Babergh|\n",
      "|272|      Gardeners Arms|              Manningtree Road,...| IP9 2TG|614019|234537|51.968086|1.114167|Babergh|\n",
      "|281|Glemsford Social ...|              25-27 Hunts Hill,...|CO10 7RP|582842|247729|52.097693|0.667931|Babergh|\n",
      "|283|Grange Restaurant...|              The Grange Countr...| CO7 6UX|609841|235186|51.975506|1.053837|Babergh|\n",
      "|291|Grover And Allen ...|              The Grover and Al...|CO10 1RF|587393|241511|52.040323|0.730880|Babergh|\n",
      "|305|     Hare and Hounds|              Harrow Street, Le...| CO6 4PW|595658|237394|52.000502|0.848865|Babergh|\n",
      "|306|     Hare And Hounds|              Heath Road, East ...| CO7 6RL|607632|235424|51.978461|1.021866|Babergh|\n",
      "+---+--------------------+----------------------------------+--------+------+------+---------+--------+-------+\n",
      "only showing top 20 rows\n",
      "\n"
     ]
    }
   ],
   "source": [
    "df.show()"
   ]
  }
 ],
 "metadata": {
  "kernelspec": {
   "display_name": "Python 3",
   "language": "python",
   "name": "python3"
  },
  "language_info": {
   "codemirror_mode": {
    "name": "ipython",
    "version": 3
   },
   "file_extension": ".py",
   "mimetype": "text/x-python",
   "name": "python",
   "nbconvert_exporter": "python",
   "pygments_lexer": "ipython3",
   "version": "3.8.8"
  }
 },
 "nbformat": 4,
 "nbformat_minor": 2
}
